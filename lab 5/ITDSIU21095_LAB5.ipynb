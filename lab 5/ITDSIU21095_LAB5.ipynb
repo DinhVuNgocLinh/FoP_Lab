{
 "cells": [
  {
   "cell_type": "markdown",
   "id": "c59e57ff",
   "metadata": {},
   "source": [
    "**MSSV:** ITDSIU21095\n",
    "\n",
    "**NAME:** Đinh Vũ Ngọc Linh"
   ]
  },
  {
   "cell_type": "markdown",
   "id": "ea15378a",
   "metadata": {},
   "source": [
    "## 1."
   ]
  },
  {
   "cell_type": "code",
   "execution_count": 1,
   "id": "1d2250a1",
   "metadata": {},
   "outputs": [
    {
     "name": "stdout",
     "output_type": "stream",
     "text": [
      "[1, 2, 4, 8, 16, 64, 256]\n",
      "[1, 4, 16]\n",
      "[2, 8]\n",
      "[2, 8, 64, 256]\n",
      "False\n"
     ]
    }
   ],
   "source": [
    "a = {1,2,4,8,16}\n",
    "b = {1,4,16,64,256}\n",
    "#a.\n",
    "print(sorted(a|b))\n",
    "#b.\n",
    "print(sorted(a&b))\n",
    "#c.\n",
    "print(sorted(a-b))\n",
    "#d.\n",
    "print(sorted(a^b))\n",
    "#e.\n",
    "print(a.isdisjoint(b))"
   ]
  },
  {
   "cell_type": "markdown",
   "id": "a70b1c6f",
   "metadata": {},
   "source": [
    "## 2."
   ]
  },
  {
   "cell_type": "code",
   "execution_count": 2,
   "id": "9d22ff78",
   "metadata": {},
   "outputs": [
    {
     "name": "stdout",
     "output_type": "stream",
     "text": [
      "Number of email: 3\n",
      "Enter your email: ABC@LinhMail.com\n",
      "Enter your email: Abc@Linhmail.com\n",
      "Enter your email: acb@linHMail.com\n",
      "{'acb@linhmail.com', 'abc@linhmail.com'}\n"
     ]
    }
   ],
   "source": [
    "n = int(input('Number of email: '))\n",
    "myList = []\n",
    "for e in range(n):\n",
    "    email = str(input('Enter your email: ').lower())\n",
    "    myList.append(email)\n",
    "print(set(myList))"
   ]
  },
  {
   "cell_type": "markdown",
   "id": "bc92fff7",
   "metadata": {},
   "source": [
    "## 3."
   ]
  },
  {
   "cell_type": "code",
   "execution_count": 3,
   "id": "58ff9959",
   "metadata": {},
   "outputs": [
    {
     "name": "stdout",
     "output_type": "stream",
     "text": [
      "Occurrences of the word Alice : 221\n"
     ]
    }
   ],
   "source": [
    "file =r'C:\\Users\\PC\\OneDrive - VietNam National University - HCM INTERNATIONAL UNIVERSITY\\Desktop\\Funda\\Funda lab\\week 9\\Alice.txt'\n",
    "word = 'Alice'\n",
    "count = 0\n",
    "book = open(file,'r',encoding='utf-8')\n",
    "for line in book:\n",
    "    words = line.split()\n",
    "    for i in words:\n",
    "        if (i==word):\n",
    "            count=count+1\n",
    "print(\"Occurrences of the word\", word, \":\", count)\n"
   ]
  },
  {
   "cell_type": "markdown",
   "id": "0eb62f6e",
   "metadata": {},
   "source": [
    "## 4. "
   ]
  },
  {
   "cell_type": "code",
   "execution_count": 4,
   "id": "71c1fa02",
   "metadata": {},
   "outputs": [
    {
     "name": "stdout",
     "output_type": "stream",
     "text": [
      "Enter text: In cryptoanalysis the technique of character frequency analysis is often used to decipher a message when the key is unknown This technique calculates the frequency of each character in the encrypted text and maps this to the frequency of characters used in for instance the English language\n",
      "WORD           COUNT\n",
      "English        1\n",
      "In             1\n",
      "This           1\n",
      "a              1\n",
      "analysis       1\n",
      "and            1\n",
      "calculates     1\n",
      "character      2\n",
      "characters     1\n",
      "cryptoanalysis 1\n",
      "decipher       1\n",
      "each           1\n",
      "encrypted      1\n",
      "for            1\n",
      "frequency      3\n",
      "in             2\n",
      "instance       1\n",
      "is             2\n",
      "key            1\n",
      "language       1\n",
      "maps           1\n",
      "message        1\n",
      "of             3\n",
      "often          1\n",
      "technique      2\n",
      "text           1\n",
      "the            6\n",
      "this           1\n",
      "to             2\n",
      "unknown        1\n",
      "used           2\n",
      "when           1\n"
     ]
    }
   ],
   "source": [
    "script = str(input('Enter text: '))\n",
    "\n",
    "word_counts = {}\n",
    "for word in script.split():\n",
    "    if word in word_counts:\n",
    "        word_counts[word] += 1\n",
    "    else:\n",
    "        word_counts[word] = 1\n",
    "print(f\"{'WORD':<15}COUNT\")\n",
    "for word, count in sorted(word_counts.items()):\n",
    "    print(f'{word:<15}{count}')"
   ]
  },
  {
   "cell_type": "markdown",
   "id": "8c88f8a3",
   "metadata": {},
   "source": [
    "## 5."
   ]
  },
  {
   "cell_type": "code",
   "execution_count": 7,
   "id": "25ebb466",
   "metadata": {},
   "outputs": [
    {
     "name": "stdout",
     "output_type": "stream",
     "text": [
      "chose 1 country (Canada,United States,Mexico): Canada\n",
      "The abbreviation of Canada is ca\n",
      "Country        The bbreviation\n",
      "Canada         ca\n",
      "United States  us\n",
      "Mexico         mx\n",
      "{'ca': 'Canada', 'us': 'United States', 'mx': 'Mexico', 'uk': 'United Kingdom'}\n",
      "CA US MX UK "
     ]
    }
   ],
   "source": [
    "tlds = {'Canada': 'ca', 'United States': 'us', 'Mexico': 'mx'}\n",
    "# a.\n",
    "user_chose = str(input('chose 1 country (Canada,United States,Mexico): '))\n",
    "for country, abbreviation in tlds.items():\n",
    "    if country == user_chose:\n",
    "        print(f'The abbreviation of {user_chose} is {abbreviation}')\n",
    "\n",
    "# b.\n",
    "print(f'{\"Country\":<15}The bbreviation')\n",
    "for country, abbreviation in tlds.items():\n",
    "    print(f'{country:<15}{abbreviation}')\n",
    "\n",
    "# c.\n",
    "tlds.update({'United Kingdom': 'uk'})\n",
    "\n",
    "# d.\n",
    "new_tlds = {abbreviation: country for country, abbreviation in tlds.items()}\n",
    "print(new_tlds)\n",
    "\n",
    "# e.\n",
    "for c in tlds.values():\n",
    "    print(c.upper(), end=' ')"
   ]
  },
  {
   "cell_type": "markdown",
   "id": "089db5d7",
   "metadata": {},
   "source": [
    "## 6.\n"
   ]
  },
  {
   "cell_type": "code",
   "execution_count": 8,
   "id": "ce630800",
   "metadata": {},
   "outputs": [
    {
     "name": "stdout",
     "output_type": "stream",
     "text": [
      "Personnel numbers   Name    Date of birth       Office branch\n",
      "ITDSIU21095         Linh    08/03/1994          DS\n",
      "ITITIU21091         Amy     05/11/1991          IT\n",
      "ITCSIU21115         Jack    14/05/1988          CS\n",
      "BABAIU21094         Peter   23/07/1997          BA\n",
      "BABAIU21190         Tina    20/08.1992          BA\n",
      "ITDSIU21099         Kara    27/09/1989          DS\n"
     ]
    }
   ],
   "source": [
    "#6.\n",
    "staffin4 = {\n",
    "    'ITDSIU21095': ['Linh','08/03/1994','DS'],\n",
    "    'ITITIU21091': ['Amy','05/11/1991','IT'],\n",
    "    'ITCSIU21115': ['Jack','14/05/1988','CS'],\n",
    "    'BABAIU21094': ['Peter','23/07/1997','BA'],\n",
    "    'BABAIU21190': ['Tina','20/08.1992','BA'],\n",
    "    'ITDSIU21099': ['Kara','27/09/1989','DS']\n",
    "    }\n",
    "print(f'{\"Personnel numbers\":<20}{\"Name\":<8}{\"Date of birth\":<20}Office branch')\n",
    "for key, value in staffin4.items():\n",
    "    number = key\n",
    "    name,birthday,branch = value\n",
    "    print(f'{number:<20}{name:<8}{birthday:<20}{branch}')"
   ]
  }
 ],
 "metadata": {
  "kernelspec": {
   "display_name": "Python 3 (ipykernel)",
   "language": "python",
   "name": "python3"
  },
  "language_info": {
   "codemirror_mode": {
    "name": "ipython",
    "version": 3
   },
   "file_extension": ".py",
   "mimetype": "text/x-python",
   "name": "python",
   "nbconvert_exporter": "python",
   "pygments_lexer": "ipython3",
   "version": "3.9.12"
  }
 },
 "nbformat": 4,
 "nbformat_minor": 5
}
