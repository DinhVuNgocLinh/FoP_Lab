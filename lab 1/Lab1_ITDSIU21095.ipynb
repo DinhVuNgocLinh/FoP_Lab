{
 "cells": [
  {
   "cell_type": "markdown",
   "id": "2d5a75d8",
   "metadata": {},
   "source": [
    "## Task 1:"
   ]
  },
  {
   "cell_type": "code",
   "execution_count": 1,
   "id": "5f05ebbd",
   "metadata": {},
   "outputs": [
    {
     "name": "stdout",
     "output_type": "stream",
     "text": [
      "x = 2\n"
     ]
    }
   ],
   "source": [
    "x = 2 \n",
    "y = 3\n",
    "print('x =', x)"
   ]
  },
  {
   "cell_type": "code",
   "execution_count": 2,
   "id": "38c2c0a1",
   "metadata": {},
   "outputs": [
    {
     "name": "stdout",
     "output_type": "stream",
     "text": [
      "Value of 2 + 2 is 4\n"
     ]
    }
   ],
   "source": [
    "print('Value of', x, '+', x, 'is', (x+x))"
   ]
  },
  {
   "cell_type": "code",
   "execution_count": 3,
   "id": "a51408d3",
   "metadata": {},
   "outputs": [
    {
     "name": "stdout",
     "output_type": "stream",
     "text": [
      "x=\n"
     ]
    }
   ],
   "source": [
    "print('x=')"
   ]
  },
  {
   "cell_type": "code",
   "execution_count": 4,
   "id": "b3d17010",
   "metadata": {},
   "outputs": [
    {
     "name": "stdout",
     "output_type": "stream",
     "text": [
      "5 = 5\n"
     ]
    }
   ],
   "source": [
    "print((x+y), '=', (y+x))"
   ]
  },
  {
   "cell_type": "markdown",
   "id": "751925e5",
   "metadata": {},
   "source": [
    "## Task 2:"
   ]
  },
  {
   "cell_type": "code",
   "execution_count": 22,
   "id": "450ed3db",
   "metadata": {},
   "outputs": [
    {
     "name": "stdout",
     "output_type": "stream",
     "text": [
      "Input a number between 1 to 10: 6\n",
      " the square of the number is: 36\n"
     ]
    }
   ],
   "source": [
    "number = int(input('Input a number between 1 to 10: '))\n",
    "square = number* number\n",
    "print(' the square of the number is:', square)"
   ]
  },
  {
   "cell_type": "markdown",
   "id": "9bc91888",
   "metadata": {},
   "source": [
    "## Task 3:"
   ]
  },
  {
   "cell_type": "code",
   "execution_count": 85,
   "id": "d544b993",
   "metadata": {},
   "outputs": [
    {
     "name": "stdout",
     "output_type": "stream",
     "text": [
      "[-3, 2, 7, 9.5]\n"
     ]
    }
   ],
   "source": [
    "x = [-5,0,5,7.5]\n",
    "y = 2\n",
    "z = len(x)\n",
    "for a in range(z):\n",
    "    x[a] = x[a] + y\n",
    "print(x)"
   ]
  },
  {
   "cell_type": "code",
   "execution_count": 86,
   "id": "1dce0bac",
   "metadata": {},
   "outputs": [
    {
     "name": "stdout",
     "output_type": "stream",
     "text": [
      "[-7, -2, 3, 5.5]\n"
     ]
    }
   ],
   "source": [
    "x = [-5,0,5,7.5]\n",
    "y = 2\n",
    "z = len(x)\n",
    "for a in range(z):\n",
    "    x[a] = x[a] - y\n",
    "print(x)"
   ]
  },
  {
   "cell_type": "code",
   "execution_count": 87,
   "id": "2a4e87f3",
   "metadata": {},
   "outputs": [
    {
     "name": "stdout",
     "output_type": "stream",
     "text": [
      "[-10, 0, 10, 15.0]\n"
     ]
    }
   ],
   "source": [
    "x = [-5,0,5,7.5]\n",
    "y = 2\n",
    "z = len(x)\n",
    "for a in range(z):\n",
    "    x[a] = x[a] * y\n",
    "print(x)"
   ]
  },
  {
   "cell_type": "code",
   "execution_count": 88,
   "id": "3014562b",
   "metadata": {},
   "outputs": [
    {
     "name": "stdout",
     "output_type": "stream",
     "text": [
      "[-2.5, 0.0, 2.5, 3.75]\n"
     ]
    }
   ],
   "source": [
    "x = [-5,0,5,7.5]\n",
    "y = 2\n",
    "z = len(x)\n",
    "for a in range(z):\n",
    "    x[a] = x[a] / y\n",
    "print(x)"
   ]
  },
  {
   "cell_type": "code",
   "execution_count": 89,
   "id": "12d617db",
   "metadata": {},
   "outputs": [
    {
     "name": "stdout",
     "output_type": "stream",
     "text": [
      "[-3, 0, 2, 3.0]\n"
     ]
    }
   ],
   "source": [
    "x = [-5,0,5,7.5]\n",
    "y = 2\n",
    "z = len(x)\n",
    "for a in range(z):\n",
    "     x[a]= x[a] // y\n",
    "print(x)"
   ]
  },
  {
   "cell_type": "markdown",
   "id": "487bcfcb",
   "metadata": {},
   "source": [
    "## Task 4:"
   ]
  },
  {
   "cell_type": "code",
   "execution_count": 119,
   "id": "0ff3fa38",
   "metadata": {},
   "outputs": [
    {
     "name": "stdout",
     "output_type": "stream",
     "text": [
      "The number of eggs are placed in the last uncompleted box is  4\n",
      "The number of additional eggs are needed to fill this last box is  2\n",
      "The number of the number of boxes a farmer needs to store 28 eggs is  5\n"
     ]
    }
   ],
   "source": [
    "print('The number of eggs are placed in the last uncompleted box is ', 28%6)\n",
    "print('The number of additional eggs are needed to fill this last box is ', 6-(28%6))\n",
    "print('The number of the number of boxes a farmer needs to store 28 eggs is ', (28//6) + 1)"
   ]
  },
  {
   "cell_type": "markdown",
   "id": "2cb34248",
   "metadata": {},
   "source": [
    "## Task 5:"
   ]
  },
  {
   "cell_type": "code",
   "execution_count": 121,
   "id": "5fd649a0",
   "metadata": {},
   "outputs": [
    {
     "name": "stdout",
     "output_type": "stream",
     "text": [
      "Enter a number: 6\n",
      "Even\n"
     ]
    }
   ],
   "source": [
    "a =int(input('Enter a number: '))\n",
    "\n",
    "if (a%2)==0:\n",
    "     print('Even')\n",
    "else:\n",
    "    print('Odd')"
   ]
  },
  {
   "cell_type": "markdown",
   "id": "6fb7676d",
   "metadata": {},
   "source": [
    "## Task 6:\n"
   ]
  },
  {
   "cell_type": "code",
   "execution_count": 122,
   "id": "a1533b50",
   "metadata": {},
   "outputs": [
    {
     "name": "stdout",
     "output_type": "stream",
     "text": [
      "Hour\t Number of bacteria\n",
      "0 \t 200\n",
      "5 \t 6400\n",
      "10 \t 204800\n",
      "15 \t 6553600\n"
     ]
    }
   ],
   "source": [
    "n = [0,5,10,15]\n",
    "a = len(n)\n",
    "print('Hour\\t Number of bacteria')\n",
    "for i in range(a):\n",
    "    print(n[i],'\\t', 200*(2**n[i]))"
   ]
  },
  {
   "cell_type": "markdown",
   "id": "144e1cbc",
   "metadata": {},
   "source": [
    "## Task 7:"
   ]
  },
  {
   "cell_type": "code",
   "execution_count": 123,
   "id": "0f9ee7a9",
   "metadata": {},
   "outputs": [
    {
     "name": "stdout",
     "output_type": "stream",
     "text": [
      "Hour\t Number of bacteria\n",
      "   0 \t                200\n",
      "   5 \t               6400\n",
      "  10 \t             204800\n",
      "  15 \t            6553600\n"
     ]
    }
   ],
   "source": [
    "n = [0,5,10,15]\n",
    "a = len(n)\n",
    "print('Hour\\t Number of bacteria')\n",
    "for i in range(a):\n",
    "    B = str(200*(2**n[i]))\n",
    "    n[i] = str(n[i])\n",
    "    print(n[i].rjust(4),'\\t', B.rjust(18))"
   ]
  },
  {
   "cell_type": "markdown",
   "id": "1c2c3c2d",
   "metadata": {},
   "source": [
    "## Task 8:\n"
   ]
  },
  {
   "cell_type": "code",
   "execution_count": 124,
   "id": "fe9312f6",
   "metadata": {},
   "outputs": [
    {
     "name": "stdout",
     "output_type": "stream",
     "text": [
      "Tim goes first\n"
     ]
    }
   ],
   "source": [
    "a = ord('T') + ord('o') + ord('m')\n",
    "b = ord('J') + ord('i') + ord('m')\n",
    "if a > b:\n",
    "    print('Tim goes first')\n",
    "else:\n",
    "    print('Jim goes first')"
   ]
  },
  {
   "cell_type": "markdown",
   "id": "f10d1873",
   "metadata": {},
   "source": [
    "## Task 9:\n"
   ]
  },
  {
   "cell_type": "code",
   "execution_count": 125,
   "id": "40cf848b",
   "metadata": {},
   "outputs": [
    {
     "name": "stdout",
     "output_type": "stream",
     "text": [
      "the grades of 1st course: 7\n",
      "the grades of 2nd course: 6\n",
      "the grades of 3rd course: 8\n",
      "3 course average is 7.0\n",
      "the name of 1st course: M\n",
      "the name of 2nd course: S\n",
      "the name of 3rd course: T\n",
      "The highest grades and its course name is T with 8\n",
      "The lowest grades and its course name is S with 6\n"
     ]
    }
   ],
   "source": [
    "a = int(input('the grades of 1st course: '))\n",
    "b = int(input('the grades of 2nd course: '))\n",
    "c = int(input('the grades of 3rd course: '))\n",
    "total = 0\n",
    "grade_coun = 0\n",
    "\n",
    "grades = [a,b,c]\n",
    "\n",
    "for i in grades:\n",
    "    total += i\n",
    "    grade_coun += 1\n",
    "average = total/ grade_coun\n",
    "\n",
    "print('3 course average is', average)\n",
    "x = input('the name of 1st course: ')\n",
    "y = input('the name of 2nd course: ')\n",
    "z = input('the name of 3rd course: ')\n",
    "\n",
    "names = [x,y,z]\n",
    "\n",
    "dic = {}\n",
    "for i in range(0,len(names)):\n",
    "  dic[names[i]] = grades[i]\n",
    "\n",
    "max_grade = max(dic.values())\n",
    "max_course = max(dic, key=dic.get)\n",
    "min_grade = min(dic.values())\n",
    "min_course = min(dic, key=dic.get)\n",
    "\n",
    "print(f\"The highest grades and its course name is {max_course} with {max_grade}\")\n",
    "print(f\"The lowest grades and its course name is {min_course} with {min_grade}\")"
   ]
  },
  {
   "cell_type": "markdown",
   "id": "d9f98893",
   "metadata": {},
   "source": [
    "## Task 10:"
   ]
  },
  {
   "cell_type": "code",
   "execution_count": 117,
   "id": "428dd154",
   "metadata": {},
   "outputs": [
    {
     "name": "stdout",
     "output_type": "stream",
     "text": [
      "3:25:45\n"
     ]
    }
   ],
   "source": [
    "def convert(seconds):\n",
    "    seconds = seconds % (24 * 3600)\n",
    "    hour = seconds // 3600\n",
    "    seconds %= 3600\n",
    "    minutes = seconds // 60\n",
    "    seconds %= 60\n",
    "     \n",
    "    return \"%d:%02d:%02d\" % (hour, minutes, seconds)\n",
    "\n",
    "n = 12345\n",
    "print(convert(n))"
   ]
  },
  {
   "cell_type": "markdown",
   "id": "015bb524",
   "metadata": {},
   "source": [
    "## Task 11:\n"
   ]
  },
  {
   "cell_type": "code",
   "execution_count": 118,
   "id": "6aa5e8b8",
   "metadata": {},
   "outputs": [
    {
     "name": "stdout",
     "output_type": "stream",
     "text": [
      "The hourly wage after 5 years of consistent good reviews is 11.592740743\n",
      "The hourly wage after 2 years of consistent bad reviews is 9.408999999999999\n"
     ]
    }
   ],
   "source": [
    "o= 10 \n",
    "\n",
    "w1 = o*(1+0.03)**5\n",
    "print(\"The hourly wage after 5 years of consistent good reviews is \" + str(w1))\n",
    "w2=  o*(1-0.03)**2\n",
    "print(\"The hourly wage after 2 years of consistent bad reviews is \" + str(w2))"
   ]
  },
  {
   "cell_type": "markdown",
   "id": "b9cf5b9f",
   "metadata": {},
   "source": [
    "## Task 12:"
   ]
  },
  {
   "cell_type": "code",
   "execution_count": 126,
   "id": "e62285a0",
   "metadata": {},
   "outputs": [
    {
     "name": "stdout",
     "output_type": "stream",
     "text": [
      "Please enter your age19\n",
      "Please enter your resting heart rate110\n",
      "The range of your target heart rate is 100.5 to 170.85\n",
      "Your maximum heart rate is 201\n"
     ]
    }
   ],
   "source": [
    "user_age = int(input(\"Please enter your age\"))\n",
    "resting_HR= int(input(\"Please enter your resting heart rate\"))\n",
    "\n",
    "max_HR= 220 - user_age\n",
    "\n",
    "diff= max_HR - resting_HR\n",
    "total= diff + resting_HR\n",
    "\n",
    "low= total * 0.5\n",
    "\n",
    "high= total * 0.85\n",
    "print(\"The range of your target heart rate is \"+str(low)+\" to \"+str(high))\n",
    "print(\"Your maximum heart rate is \"+ str(max_HR))"
   ]
  },
  {
   "cell_type": "markdown",
   "id": "74691807",
   "metadata": {},
   "source": [
    "## Task 13:"
   ]
  },
  {
   "cell_type": "code",
   "execution_count": 2,
   "id": "91a7560b",
   "metadata": {},
   "outputs": [
    {
     "name": "stdout",
     "output_type": "stream",
     "text": [
      "Enter the time of the first runner 35.5\n",
      "Enter the time of the second runner 35.01\n",
      "Enter the time of the third runner 36.1\n",
      "The time in increasing order is\n",
      "35.01 35.5 36.1\n"
     ]
    }
   ],
   "source": [
    "a=float(input(\"Enter the time of the first runner \"))\n",
    "b=float(input(\"Enter the time of the second runner \"))\n",
    "c= float(input(\"Enter the time of the third runner \"))\n",
    "\n",
    "a= round(a,3)\n",
    "b= round(b,3)\n",
    "c=round(c,3)\n",
    "\n",
    "if a<=b<=c:\n",
    "    print(\"The time in increasing order is\")\n",
    "    print(a,b,c)\n",
    "elif a<=c<=a:\n",
    "    print(\"The time in increasing order is\")\n",
    "    print(a,c,b)\n",
    "elif b<=a<=c:\n",
    "    print(\"The time in increasing order is\")\n",
    "    print(b,a,c)\n",
    "elif b<=c<=a:\n",
    "    print(\"The time in increasing order is\")\n",
    "    print(b,c,a)\n",
    "elif c<=a<=b:\n",
    "    print(\"The time in increasing order is\")\n",
    "    print(c,a,b)\n",
    "elif c<=b<=a:\n",
    "    print(\"The time in increasing order is\")\n",
    "    print(c,b,a)"
   ]
  },
  {
   "cell_type": "markdown",
   "id": "f5ec935a",
   "metadata": {},
   "source": [
    "## Task 14:\n"
   ]
  },
  {
   "cell_type": "code",
   "execution_count": 3,
   "id": "238fca05",
   "metadata": {},
   "outputs": [
    {
     "name": "stdout",
     "output_type": "stream",
     "text": [
      "Enter the time of the first runner 35.6\n",
      "Enter the time of the second runner 36.1\n",
      "Enter the time of the third runner 35.05\n",
      "The time in increasing order is\n",
      "35.05 35.6 36.1\n"
     ]
    }
   ],
   "source": [
    "a=float(input(\"Enter the time of the first runner \"))\n",
    "b=float(input(\"Enter the time of the second runner \"))\n",
    "c= float(input(\"Enter the time of the third runner \"))\n",
    "\n",
    "a= round(a,3)\n",
    "b= round(b,3)\n",
    "c=round(c,3)\n",
    "\n",
    "if a<=b<=c:\n",
    "    print(\"The time in increasing order is\")\n",
    "    print(a,b,c)\n",
    "elif a<=c<=a:\n",
    "    print(\"The time in increasing order is\")\n",
    "    print(a,c,b)\n",
    "elif b<=a<=c:\n",
    "    print(\"The time in increasing order is\")\n",
    "    print(b,a,c)\n",
    "elif b<=c<=a:\n",
    "    print(\"The time in increasing order is\")\n",
    "    print(b,c,a)\n",
    "elif c<=a<=b:\n",
    "    print(\"The time in increasing order is\")\n",
    "    print(c,a,b)\n",
    "else:\n",
    "    print(\"The time in increasing order is\")\n",
    "    print(c,b,a)"
   ]
  }
 ],
 "metadata": {
  "kernelspec": {
   "display_name": "Python 3 (ipykernel)",
   "language": "python",
   "name": "python3"
  },
  "language_info": {
   "codemirror_mode": {
    "name": "ipython",
    "version": 3
   },
   "file_extension": ".py",
   "mimetype": "text/x-python",
   "name": "python",
   "nbconvert_exporter": "python",
   "pygments_lexer": "ipython3",
   "version": "3.9.12"
  }
 },
 "nbformat": 4,
 "nbformat_minor": 5
}
