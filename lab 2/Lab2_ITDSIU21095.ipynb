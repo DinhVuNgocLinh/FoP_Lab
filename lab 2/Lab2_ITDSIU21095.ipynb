{
 "cells": [
  {
   "cell_type": "code",
   "execution_count": 1,
   "id": "f3f5a012",
   "metadata": {},
   "outputs": [
    {
     "name": "stdout",
     "output_type": "stream",
     "text": [
      "number  of reported infections day  1\n",
      "4\n",
      "number  of reported infections day  2\n",
      "4\n",
      "number  of reported infections day  3\n",
      "5\n",
      "number  of reported infections day  4\n",
      "6\n",
      "number  of reported infections day  5\n",
      "8\n",
      "number  of reported infections day  6\n",
      "9\n",
      "number  of reported infections day  7\n",
      "4\n",
      "the total 40\n",
      "the average 3.6363636363636362\n",
      "the smallest 4\n",
      "the largest 9\n"
     ]
    }
   ],
   "source": [
    "#1\n",
    "number_list = []\n",
    "for i in range (1,8):\n",
    "    print('number  of reported infections day ', i,)\n",
    "    num= int(input())\n",
    "    number_list.append(num)\n",
    "print('the total', sum(number_list))\n",
    "print('the average', sum(number_list)/len('number_list'))\n",
    "print('the smallest', min(number_list))\n",
    "print('the largest', max(number_list))"
   ]
  },
  {
   "cell_type": "code",
   "execution_count": 2,
   "id": "19b41621",
   "metadata": {},
   "outputs": [
    {
     "name": "stdout",
     "output_type": "stream",
     "text": [
      "input the length of the three sides 56\n",
      "it is not equilateral triangle\n"
     ]
    }
   ],
   "source": [
    "#4\n",
    "a = int(input('input the length of the three sides '))\n",
    "\n",
    "if a%3 == 0:\n",
    "    print('it is an equilateral triangle')\n",
    "else:\n",
    "    print('it is not equilateral triangle')"
   ]
  },
  {
   "cell_type": "code",
   "execution_count": 3,
   "id": "5fd1ad36",
   "metadata": {},
   "outputs": [
    {
     "name": "stdout",
     "output_type": "stream",
     "text": [
      "enter a number 45\n",
      "this is not a perfect number\n"
     ]
    }
   ],
   "source": [
    "#5\n",
    "a =  int(input('enter a number '))\n",
    "n = []\n",
    "for i in range(1,a):\n",
    "    if a%i == 0:\n",
    "        n.append(i)\n",
    "if a == sum(n):\n",
    "    print('this i a perfect number')\n",
    "else:\n",
    "    print('this is not a perfect number')"
   ]
  },
  {
   "cell_type": "code",
   "execution_count": 14,
   "id": "e0bc387e",
   "metadata": {},
   "outputs": [
    {
     "name": "stdout",
     "output_type": "stream",
     "text": [
      "Enter number of terms: 35\n",
      "Pi 3.1701582571925884\n"
     ]
    }
   ],
   "source": [
    "#6\n",
    "def leibniz(n):\n",
    "    t_sum = 0\n",
    "    for i in range(n):\n",
    "        term = (-1) ** i /(2*i+1)\n",
    "        t_sum = t_sum + term\n",
    "    \n",
    "    return t_sum * 4\n",
    "\n",
    "# Reading number of terms to be considered in Leibniz formula\n",
    "terms = int(input(\"Enter number of terms: \"))\n",
    "\n",
    "# Function call\n",
    "pi = leibniz(terms)\n",
    "print(\"Pi\",pi)"
   ]
  },
  {
   "cell_type": "code",
   "execution_count": 15,
   "id": "8ea835e6",
   "metadata": {},
   "outputs": [
    {
     "name": "stdout",
     "output_type": "stream",
     "text": [
      "34\n"
     ]
    }
   ],
   "source": [
    "#7\n",
    "import math\n",
    " \n",
    "def fibo(n):\n",
    "    phi = (1 + math.sqrt(5)) / 2\n",
    " \n",
    "    return round(pow(phi, n) / math.sqrt(5))\n",
    "     \n",
    "    \n",
    "n = 9\n",
    "     \n",
    "print(fibo(n))\n"
   ]
  },
  {
   "cell_type": "code",
   "execution_count": 1,
   "id": "4bc670df",
   "metadata": {},
   "outputs": [
    {
     "name": "stdout",
     "output_type": "stream",
     "text": [
      "\n",
      "*\n",
      "**\n",
      "***\n",
      "****\n",
      "*****\n",
      "******\n",
      "*******\n",
      "********\n",
      "*********\n",
      "**********\n",
      "\n",
      "***********\n",
      "**********\n",
      "*********\n",
      "********\n",
      "*******\n",
      "******\n",
      "*****\n",
      "****\n",
      "***\n",
      "**\n",
      "*\n",
      "\n",
      " **********\n",
      "  *********\n",
      "   ********\n",
      "    *******\n",
      "     ******\n",
      "      *****\n",
      "       ****\n",
      "        ***\n",
      "         **\n",
      "          *\n",
      "            \n",
      "           *\n",
      "          **\n",
      "         ***\n",
      "        ****\n",
      "       *****\n",
      "      ******\n",
      "     *******\n",
      "    ********\n",
      "   *********\n",
      "  **********\n"
     ]
    }
   ],
   "source": [
    "# 8\n",
    "a = 11\n",
    "def pattern(a):\n",
    "    for i in range (0,a):\n",
    "        print('*'*i)\n",
    "    print()\n",
    "    for i in range(a):\n",
    "        print('*'*(a-i))\n",
    "    print()\n",
    "    for i in range(a-1):\n",
    "        for j in range(i + 1):\n",
    "            print(' ', end='')\n",
    "        for k in range(a - i - 1):\n",
    "            print('*', end='')\n",
    "        print()\n",
    "    for i in range(0, a):\n",
    "        print(' ' * (a - i), '*' * i)\n",
    "\n",
    "pattern(a)"
   ]
  },
  {
   "cell_type": "code",
   "execution_count": 13,
   "id": "708ea760",
   "metadata": {},
   "outputs": [
    {
     "name": "stdout",
     "output_type": "stream",
     "text": [
      "*                     * * * * * * * * * *     * * * * * * * * * *                     * \n",
      "* *                   * * * * * * * * *         * * * * * * * * *                   * * \n",
      "* * *                 * * * * * * * *             * * * * * * * *                 * * * \n",
      "* * * *               * * * * * * *                 * * * * * * *               * * * * \n",
      "* * * * *             * * * * * *                     * * * * * *             * * * * * \n",
      "* * * * * *           * * * * *                         * * * * *           * * * * * * \n",
      "* * * * * * *         * * * *                             * * * *         * * * * * * * \n",
      "* * * * * * * *       * * *                                 * * *       * * * * * * * * \n",
      "* * * * * * * * *     * *                                     * *     * * * * * * * * * \n",
      "* * * * * * * * * *   *                                         *   * * * * * * * * * * \n"
     ]
    }
   ],
   "source": [
    "#9 \n",
    "\n",
    "for i in range(1,11):\n",
    "  for j in range(0,i):\n",
    "    print('*',end=' ')\n",
    "  for j in range(0,11-i):\n",
    "    print(' ',end=' ')\n",
    "  for j in range(0,11-i):\n",
    "    print('*',end=' ')\n",
    "  for j in range(0,2*i):\n",
    "    print(' ',end=' ')\n",
    "  for j in range(0,11-i):\n",
    "    print('*',end=' ')\n",
    "  for j in range(0,11-i):\n",
    "    print(' ',end=' ')\n",
    "  for j in range(0,i):\n",
    "    print('*',end=' ')\n",
    "  print()"
   ]
  },
  {
   "cell_type": "code",
   "execution_count": 6,
   "id": "ea69f539",
   "metadata": {},
   "outputs": [
    {
     "name": "stdout",
     "output_type": "stream",
     "text": [
      "the speed of 1 runner\n",
      "34\n",
      "the speed of 2 runner\n",
      "54\n",
      "the speed of 3 runner\n",
      "34\n",
      "the speed of 4 runner\n",
      "45\n",
      "the speed of 5 runner\n",
      "65\n",
      "the speed of 6 runner\n",
      "33\n",
      "the speed of 7 runner\n",
      "45\n",
      "the speed of 8 runner\n",
      "56\n",
      "the speed of 9 runner\n",
      "66\n",
      "the speed of 10 runner\n",
      "78\n",
      "The fastest runner is the runner who has a speed of 78 m/sec\n",
      "The second fastest runner is the runner who has a speed of 66 m/sec\n"
     ]
    }
   ],
   "source": [
    "#11\n",
    "time = []\n",
    "for i in range (1,11):\n",
    "    print('the speed of',i ,'runner')\n",
    "    num= int(input())\n",
    "    time.append(num)\n",
    "print(\"The fastest runner is the runner who has a speed of\",sorted(time)[9],\"m/sec\")\n",
    "print(\"The second fastest runner is the runner who has a speed of\",sorted(time)[8],\"m/sec\")"
   ]
  },
  {
   "cell_type": "code",
   "execution_count": 10,
   "id": "282708cf",
   "metadata": {},
   "outputs": [
    {
     "name": "stdout",
     "output_type": "stream",
     "text": [
      "The mean of temp is 19.555555555555557\n",
      "The median of temp is 19.7\n",
      "The number most appear is 19.5\n"
     ]
    }
   ],
   "source": [
    "temp = [19.5, 19.5, 21.6, 20.2, 19.7, 20.2, 18.6, 17.2, 19.5]\n",
    "mean_temp = sum(temp)/len(temp)\n",
    "print('The mean of temp is',mean_temp)\n",
    "if len(temp)%2 ==1:\n",
    "  median = temp[(len(temp)//2)]\n",
    "elif len(temp)%2 ==0:\n",
    "  x1 = temp[(len(temp)//2)-1]\n",
    "  x2 = temp[(len(temp)//2)]\n",
    "  median = (x1+x2)/2\n",
    "print('The median of temp is',median) \n",
    "counter = 0\n",
    "num = temp[0]\n",
    "     \n",
    "for i in temp:\n",
    "  curr_frequency = temp.count(i)\n",
    "  if(curr_frequency> counter):\n",
    "      counter = curr_frequency\n",
    "      num = i\n",
    "print('The number most appear is',num)"
   ]
  },
  {
   "cell_type": "code",
   "execution_count": null,
   "id": "2085a553",
   "metadata": {},
   "outputs": [],
   "source": []
  }
 ],
 "metadata": {
  "kernelspec": {
   "display_name": "Python 3 (ipykernel)",
   "language": "python",
   "name": "python3"
  },
  "language_info": {
   "codemirror_mode": {
    "name": "ipython",
    "version": 3
   },
   "file_extension": ".py",
   "mimetype": "text/x-python",
   "name": "python",
   "nbconvert_exporter": "python",
   "pygments_lexer": "ipython3",
   "version": "3.9.12"
  }
 },
 "nbformat": 4,
 "nbformat_minor": 5
}
