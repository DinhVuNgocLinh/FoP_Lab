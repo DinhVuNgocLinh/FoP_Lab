{
  "nbformat": 4,
  "nbformat_minor": 0,
  "metadata": {
    "colab": {
      "provenance": []
    },
    "kernelspec": {
      "name": "python3",
      "display_name": "Python 3"
    },
    "language_info": {
      "name": "python"
    }
  },
  "cells": [
    {
      "cell_type": "markdown",
      "source": [
        "1. (Car Class with Read-Only Properties) Write a class Car that contains the model, year\n",
        "(of manufacture), and speed of a car as hidden attributes (name these attributes with a\n",
        "leading underscore). Provide the necessary read-only properties. Write two methods to\n",
        "drive the car faster and slower. Test your Car class."
      ],
      "metadata": {
        "id": "dUHqMj1bjy8m"
      }
    },
    {
      "cell_type": "code",
      "execution_count": null,
      "metadata": {
        "id": "IBmzz0n8jc2t",
        "colab": {
          "base_uri": "https://localhost:8080/"
        },
        "outputId": "17c4619c-681f-4707-8f78-cba725536450"
      },
      "outputs": [
        {
          "output_type": "stream",
          "name": "stdout",
          "text": [
            "Civic\n",
            "2021\n",
            "180km/h\n",
            "This car is driving faster\n",
            "This car is driving slower\n"
          ]
        }
      ],
      "source": [
        "#1.\n",
        "class Car:\n",
        "    def __init__(self,_model,_year,_speed):\n",
        "        self._model = _model\n",
        "        self._year = _year\n",
        "        self._speed = _speed\n",
        "\n",
        "    @property\n",
        "    def model(self):\n",
        "        return self._model\n",
        "    def year(self):\n",
        "        return self._year\n",
        "    def speed(self):\n",
        "        return self._speed\n",
        "\n",
        "    def faster(self):\n",
        "        print('This car is driving faster')\n",
        "    def slower(self):\n",
        "        print('This car is driving slower')\n",
        "\n",
        "# Test Car class\n",
        "car1 = Car('Civic',2021,'180km/h')\n",
        "print(car1._model)\n",
        "print(car1._year)\n",
        "print(car1._speed)\n",
        "car1.faster()\n",
        "car1.slower()\n"
      ]
    },
    {
      "cell_type": "markdown",
      "source": [
        "2. (Coin Class) Write a Coin Class to keep track of the number of 2 euro, 1 euro, 50 euro\n",
        "cent, 20 euro cent, and 10 euro cent coins in a wallet. Provide a read-only property\n",
        "universal_str that returns a string with the number of coins for each coin type. Write a\n",
        "second method that returns the total amount of money. Keep your attributes hidden\n",
        "and use the read-only properties. Create a coin object and test the methods.\n"
      ],
      "metadata": {
        "id": "65Jb-PCuzkD_"
      }
    },
    {
      "cell_type": "code",
      "source": [
        "#2.\n",
        "class Coin:\n",
        "    def __init__(self,euro2, euro1, cent50, cent20, cent10):\n",
        "        self._euro2 = euro2\n",
        "        self._euro1 = euro1\n",
        "        self._cent50 = cent50\n",
        "        self._cent20 = cent20\n",
        "        self._cent10 = cent10\n",
        "\n",
        "    @property\n",
        "    def universal_str(self):\n",
        "        print(f\"with {self._euro2} '2 euro type' we have {self._euro2*2*100} coins\")\n",
        "        print(f\"with {self._euro1} '1 euro type' we have {self._euro1*1*100} coins\")\n",
        "        print(f\"with {self._cent50} '50 cent type' we have {self._cent50*50} coins\")\n",
        "        print(f\"with {self._cent20} '20 cent type' we have {self._cent20*20} coins\")\n",
        "        print(f\"with {self._cent10} '10 cent type' we have {self._cent10*10} coins\")\n",
        "\n",
        "    def total(self):\n",
        "        total_coin =self._euro2*2*100 + self._euro1*1*100 + self._cent50*50 + self._cent20*20 + self._cent10*10\n",
        "        print(f\"The amount of money is {total_coin //100} euro and {total_coin % 100}cent\")\n",
        "\n",
        "# Test Coin class\n",
        "wallet = Coin(3,5,6,11,21)\n",
        "print(wallet._euro2)\n",
        "print(wallet._euro1)\n",
        "print(wallet._cent50)\n",
        "print(wallet._cent20)\n",
        "print(wallet._cent10)\n",
        "wallet.universal_str\n",
        "wallet.total()\n",
        "  "
      ],
      "metadata": {
        "id": "8QT6n7EXj_Wt",
        "colab": {
          "base_uri": "https://localhost:8080/"
        },
        "outputId": "5f424aa2-8993-49aa-9ade-b14be6c6b82e"
      },
      "execution_count": null,
      "outputs": [
        {
          "output_type": "stream",
          "name": "stdout",
          "text": [
            "3\n",
            "5\n",
            "6\n",
            "11\n",
            "21\n",
            "with 3 '2 euro type' we have 600 coins\n",
            "with 5 '1 euro type' we have 500 coins\n",
            "with 6 '50 cent type' we have 300 coins\n",
            "with 11 '20 cent type' we have 220 coins\n",
            "with 21 '10 cent type' we have 210 coins\n",
            "The amount of money is 18 euro and 30cent\n"
          ]
        }
      ]
    },
    {
      "cell_type": "markdown",
      "source": [
        "3. (Modifying the Internal Data Representation of a Class) Section 10.4.2’s Time class\n",
        "represents the time as three integer values. Modify the class to store the time as the\n",
        "total number of seconds since midnight. Replace the _hour, _minute and _second\n",
        "attributes with one _total_seconds attribute. Modify the bodies of the hour, minute and\n",
        "second properties’ methods to get and set _total_seconds. Re-execute Section 10.4’s\n",
        "IPython session using the modified Time class to show that the updated class Time is\n",
        "interchangeable with the original one.\n"
      ],
      "metadata": {
        "id": "b26LPPQA1U8N"
      }
    },
    {
      "cell_type": "code",
      "source": [
        "class Time:\n",
        "  def __init__(self,_hour,_minute,_second):\n",
        "    self._hour = _hour\n",
        "    self._minute = _minute\n",
        "    self._second = _second\n",
        "  def _total_seconds(self):\n",
        "    if int(self._hour) <= 24:\n",
        "     self._total_seconds = self._hour * 3600 + self._minute * 60 + self._second\n",
        "     return self._total_seconds\n",
        "    else:\n",
        "      print(\"Invalid\")\n",
        "   \n",
        "time_atm = Time(13,25,48)\n",
        "print(\"the total of second from the time at the moment:\",time_atm._total_seconds())"
      ],
      "metadata": {
        "id": "7t2e54II1YQF",
        "colab": {
          "base_uri": "https://localhost:8080/"
        },
        "outputId": "44ee77ec-c667-4347-d5ba-dfb9c4eb513b"
      },
      "execution_count": 9,
      "outputs": [
        {
          "output_type": "stream",
          "name": "stdout",
          "text": [
            "the total of second from the time at the moment: 48348\n"
          ]
        }
      ]
    },
    {
      "cell_type": "markdown",
      "source": [
        "4. (Calculating Vector Lengths) A vector is an object that has a magnitude and a direction.\n",
        "A vector is represented as a line segment with an arrow where the arrow represents the\n",
        "direction and the length of the vector is the magnitude. A vector can also be a single\n",
        "point with x- and y-coordinates. The magnitude calculated from this type of vector equals\n",
        "the distance between the origin of the cartesian coordinate system and the point. Write a\n",
        "class Point that represents an (x-y) coordinate pair and provides x and y read-write\n",
        "properties as well as a method to calculate the distance between the point and the\n",
        "origin of the coordinate system. Include __init__ and __repr__ methods. Write a class\n",
        "Vector that has two Point objects as its attributes. Include __init__ and __repr__\n",
        "methods and a method that can calculate the magnitude of the vector. Test your Point\n",
        "and your Vector class."
      ],
      "metadata": {
        "id": "zIFOzNxl1ZKV"
      }
    },
    {
      "cell_type": "code",
      "source": [
        "# 4\n",
        "import math\n",
        "class Point:\n",
        "    def __init__(self, x=0, y=0):\n",
        "        self.x = x\n",
        "        self.y = y\n",
        "    @property\n",
        "    def x(self):\n",
        "        return self._x\n",
        "    @property\n",
        "    def y(self):\n",
        "        return self._y\n",
        "    @x.setter\n",
        "    def x(self, x_value):\n",
        "        self._x = x_value\n",
        "    @y.setter\n",
        "    def y(self, y_value):\n",
        "        self._y = y_value\n",
        "    def distance(self):\n",
        "        distance = math.sqrt((self.x ** 2) + (self.y ** 2))\n",
        "        print(f'The distance is {distance}')\n",
        "    def __repr__(self):\n",
        "        return f'Vector({self.x});({self.y})'\n",
        "class Vector:\n",
        "    def __init__(self,p1=Point(),p2=Point()):\n",
        "        self.p1 = p1\n",
        "        self.p2 = p2\n",
        "    def magnitude(self):\n",
        "        magnitude = math.sqrt((self.p1.x - self.p2.x) ** 2 + (self.p1.y - self.p2.y) ** 2)\n",
        "        print(f'The magnitude is {magnitude}')\n",
        "    def __repr__(self):\n",
        "        return f\"Vector({self.p1}) - ({self.p2})\"\n",
        "\n",
        "# Test Point, Vector class\n",
        "vector1 = Point(-3, 5)\n",
        "vector2 = Point(7,-12)\n",
        "print('x1 =',vector1.x)\n",
        "print('y1 =',vector1.y)\n",
        "vector1.distance()\n",
        "print('x2 =',vector2.x)\n",
        "print('y2 =',vector2.y)\n",
        "vector2.distance()\n",
        "print('Point 1 =', vector1, 'Point 2 =', vector2)\n",
        "vector = Vector(vector1, vector2)\n",
        "vector.magnitude()\n"
      ],
      "metadata": {
        "id": "EmUu5cn81dOb",
        "colab": {
          "base_uri": "https://localhost:8080/"
        },
        "outputId": "5c16af79-4290-4fe5-ea86-89d2b9199d42"
      },
      "execution_count": 6,
      "outputs": [
        {
          "output_type": "stream",
          "name": "stdout",
          "text": [
            "x1 = -3\n",
            "y1 = 5\n",
            "The distance is 5.830951894845301\n",
            "x2 = 7\n",
            "y2 = -12\n",
            "The distance is 13.892443989449804\n",
            "Point 1 = Vector(-3);(5) Point 2 = Vector(7);(-12)\n",
            "The magnitude is 19.72308292331602\n"
          ]
        }
      ]
    },
    {
      "cell_type": "markdown",
      "source": [
        "5. (Manipulating Dates and Times with Module datetime) The Python Standard Library’s\n",
        "datetime module contains a datetime class for manipulating dates and times. The class\n",
        "provides various overloaded operators. Research class datetime’s capabilities, then\n",
        "perform the following tasks:\n",
        "\n",
        "a) Get the current date and time and store it in variables.\n",
        "\n",
        "b) Repeat Part (a) and store the result in variable y.\n",
        "\n",
        "c) Display Each Datetime Object.\n",
        "\n",
        "d) Display each datetime object’s data attributes individually.\n",
        "\n",
        "e) Use the comparison operators to compare the two datetime objects.\n",
        "\n",
        "f) Calculate the difference between y and x.\n"
      ],
      "metadata": {
        "id": "Ws4zzlRW1fZe"
      }
    },
    {
      "cell_type": "code",
      "source": [
        "#5\n",
        "import datetime\n",
        "#a\n",
        "x = datetime.datetime.now()\n",
        "print(x)\n",
        "#b\n",
        "y = datetime.datetime.now()\n",
        "print(y)\n",
        "#c\n",
        "from datetime import date\n",
        "from datetime import datetime\n",
        "from datetime import time\n",
        "#d\n",
        "print(\"The attributes of now() are : \")\n",
        "print(\"Year : \",y.year)\n",
        "print(\"Month : \",y.month)\n",
        "print(\"Day : \",y.day)\n",
        "print(\"Hour : \",y.hour)\n",
        "print(\"Minute : \",y.minute)\n",
        "print(\"Second : \",y.second)\n",
        "print(\"Microsecond : \",y.microsecond)\n",
        "#e\n",
        "if x > y:\n",
        "  print('x is greater than y')\n",
        "elif x < y:\n",
        "  print('x is less than y')\n",
        "elif x == y:\n",
        "  print('x and y are same')\n",
        "#f\n",
        "print(y-x)"
      ],
      "metadata": {
        "id": "G7nK5DTl1hdr"
      },
      "execution_count": null,
      "outputs": []
    },
    {
      "cell_type": "markdown",
      "source": [
        "6. (Calculator Class) Write a class that implements a Calculator. The class should contain 2\n",
        "numbers. Provide an __init__ method that takes the 2 numbers as arguments. Also,\n",
        "provide the following read-only properties:\n",
        "\n",
        "a) sum returns the sum of the 2 numbers\n",
        "\n",
        "b) difference returns the difference between the 2 numbers\n",
        "\n",
        "c) product returns the product between the 2 numbers\n",
        "\n",
        "d) division returns the quotient of number1 divided by number2\n",
        "\n",
        "These properties should not have corresponding data attributes; rather, they should use\n",
        "side in calculations that return the desired values. Create a Calculator object and dis\u0002play its properties."
      ],
      "metadata": {
        "id": "KG9xOQCs1mhX"
      }
    },
    {
      "cell_type": "code",
      "source": [
        "class Caculator:\n",
        "    def __init__(self,a,b):\n",
        "        self.a = a\n",
        "        self.b = b\n",
        "    @property\n",
        "    def sum(self):\n",
        "        return self.a + self.b\n",
        "    @property\n",
        "    def minus(self):\n",
        "        return self.a - self.b\n",
        "    @property\n",
        "    def mul(self):\n",
        "        return self.a * self.b\n",
        "    @property\n",
        "    def div(self):\n",
        "        return self.a / self.b\n",
        "# Test Caculator class\n",
        "num = Caculator(3,8)\n",
        "print('a=',num.a,',','b=',num.b)\n",
        "print('the sum of the 2 numbers',num.sum)\n",
        "print('the difference between the 2 numbers',num.minus)\n",
        "print('the product between the 2 numbers',num.mul)\n",
        "print('the quotient of a divided by b',num.div)\n",
        "\n",
        "\n",
        "\n"
      ],
      "metadata": {
        "id": "rF98WTI31ugX",
        "colab": {
          "base_uri": "https://localhost:8080/"
        },
        "outputId": "98e8d96c-5d53-4ec5-a2a9-f9544bf71750"
      },
      "execution_count": 12,
      "outputs": [
        {
          "output_type": "stream",
          "name": "stdout",
          "text": [
            "a= 3 , b= 8\n",
            "the sum of the 2 numbers 11\n",
            "the difference between the 2 numbers -5\n",
            "the product between the 2 numbers 24\n",
            "the quotient of a divided by b 0.375\n"
          ]
        }
      ]
    },
    {
      "cell_type": "markdown",
      "source": [
        "7. (Player Class) Write a class called Player that can be used in a turn-based strategy\n",
        "game to create player objects. Create the following data attributes-the name (a string),\n",
        "level (an int), strength (an int), and Health Points (a Decimal). The class should have\n",
        "an __init__ method to initialize the data attributes. Provide a property for each data attri\u0002bute. Use validation in the properties of the level and health attribute to ensure that they\n",
        "remain non-negative. Provide a defence method to defend from an attack. The intensity\n",
        "of the attack is calculated as follows—divide the strength of the attacker by a random\n",
        "num- ber between 1 and 3, subtract from this result the strength of our player multiplied\n",
        "with the level of our player. If the intensity is ≤ 0, the player loses, and the intensity is\n",
        "subtracted from the health points of the player.\n"
      ],
      "metadata": {
        "id": "Dsgt9c8R1vmQ"
      }
    },
    {
      "cell_type": "code",
      "source": [
        "from random import randrange\n",
        "class Player:\n",
        "      def __init__(self):       \n",
        "          self.name = \"\"   \n",
        "          self.level = 0         \n",
        "          self.strength = 0         \n",
        "          self.health_points = 0      \n",
        "      def __init__(self, name, level, strength, health_points):         \n",
        "        if (level < 0):             \n",
        "          print (\"Level cannot be in negative\")             \n",
        "          return          \n",
        "        else:             \n",
        "          self.level = level          \n",
        "        if (health_points < 0):             \n",
        "          print (\"Health cannot be in negative\")             \n",
        "          return          \n",
        "        else:             \n",
        "          self.health_points = health_points                      \n",
        "          self.name = name         \n",
        "          self.strength = strength      \n",
        "      def defence(self, attacker):         \n",
        "        intensity = (self.strength - (attacker.strength / randrange(3))) * self.level          \n",
        "        if (intensity <= 0):             \n",
        "          print (\"You lost!\")             \n",
        "          self.health_points -= intensity             \n",
        "          return          \n",
        "        else:             \n",
        "          print (\"You Won!\")             \n",
        "          return    \n",
        "#Test\n",
        "if __name__ == \"__main__\":     \n",
        "  player1 = Player(\"Damon\", 5, 200, 5000)     \n",
        "  player2 = Player(\"Elena\", 7, 300, 4000)      \n",
        "  player2.defence(player1)"
      ],
      "metadata": {
        "id": "Soxpm9s410rB",
        "colab": {
          "base_uri": "https://localhost:8080/"
        },
        "outputId": "855e5e0b-5e14-4f20-98c1-764e1a863ae1"
      },
      "execution_count": 17,
      "outputs": [
        {
          "output_type": "stream",
          "name": "stdout",
          "text": [
            "You Won!\n"
          ]
        }
      ]
    },
    {
      "cell_type": "markdown",
      "source": [
        "8. (Class Fraction) The Python Standard Library module fractions provides a Fraction class\n",
        "that stores the numerator and denominator of a fraction, such as:\n",
        "2 / 4\n",
        "Research Fraction’s capabilities, then demonstrate:\n",
        "\n",
        "a) AddingtwoFractions.\n",
        "\n",
        "b) Subtracting two Fractions.\n",
        "\n",
        "c) MultiplyingtwoFractions.\n",
        "\n",
        "d) Dividing two Fractions.\n",
        "\n",
        "e) Printing Fractions in the form a/b, where a is the numerator and b is the denominator.\n",
        "\n",
        "f) Converting Fractions to floating-point numbers with built-in function float."
      ],
      "metadata": {
        "id": "ywS37cLu12Kg"
      }
    },
    {
      "cell_type": "code",
      "source": [
        "from fractions import Fraction\n",
        "print (Fraction(435, 134) + Fraction(43, 56))\n",
        "print (Fraction(163, 267) - Fraction(643, 463))\n",
        "print (Fraction(25, 8) * Fraction(28, 17))\n",
        "print (Fraction(37, 6) / Fraction(26, 31))\n",
        "print (Fraction('3.14159265358979323846').limit_denominator(10))\n",
        "a = Fraction(1, 2) \n",
        "print(float(a))"
      ],
      "metadata": {
        "id": "Wbd898vQ17Vi",
        "colab": {
          "base_uri": "https://localhost:8080/"
        },
        "outputId": "f3d33ee7-947d-4a4d-96b6-5f78b122cbd1"
      },
      "execution_count": 24,
      "outputs": [
        {
          "output_type": "stream",
          "name": "stdout",
          "text": [
            "15061/3752\n",
            "-96212/123621\n",
            "175/34\n",
            "1147/156\n",
            "22/7\n",
            "0.5\n"
          ]
        }
      ]
    }
  ]
}