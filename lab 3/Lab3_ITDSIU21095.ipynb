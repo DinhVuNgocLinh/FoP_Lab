{
 "cells": [
  {
   "cell_type": "markdown",
   "id": "b3650074",
   "metadata": {},
   "source": [
    "# 1"
   ]
  },
  {
   "cell_type": "code",
   "execution_count": 1,
   "id": "2f28340c",
   "metadata": {},
   "outputs": [
    {
     "name": "stdout",
     "output_type": "stream",
     "text": [
      "x1=5\n",
      "x2=3\n",
      "y1=7\n",
      "y2=4\n",
      "slope is: 1.5\n"
     ]
    }
   ],
   "source": [
    "x1 = int(input('x1='))\n",
    "x2 = int(input('x2='))\n",
    "y1 = int(input('y1='))\n",
    "y2 = int(input('y2='))\n",
    "\n",
    "def calc_slope(x1,y1,x2,y2):\n",
    "    delta_x = x2 - x1\n",
    "    delta_y = y2 - y1\n",
    "    slope = (delta_y)/ (delta_x)\n",
    "    return slope\n",
    "\n",
    "print('slope is:', calc_slope(x1,y1,x2,y2))"
   ]
  },
  {
   "cell_type": "markdown",
   "id": "1c583203",
   "metadata": {},
   "source": [
    "# 2"
   ]
  },
  {
   "cell_type": "code",
   "execution_count": 2,
   "id": "84d5d095",
   "metadata": {},
   "outputs": [
    {
     "name": "stdout",
     "output_type": "stream",
     "text": [
      "average is 56.4\n"
     ]
    }
   ],
   "source": [
    "def average(score1, *args):\n",
    "    tong = 0\n",
    "    total = 0\n",
    "    for i in args:\n",
    "        tong += i\n",
    "        total += 1\n",
    "        args = (tong + score1) / (total +1)\n",
    "    return args\n",
    "print(f'average is {average(66,77,33,42,64)}')"
   ]
  },
  {
   "cell_type": "markdown",
   "id": "1f12a831",
   "metadata": {},
   "source": [
    "# 3"
   ]
  },
  {
   "cell_type": "code",
   "execution_count": 3,
   "id": "fbf37fd4",
   "metadata": {},
   "outputs": [
    {
     "name": "stdout",
     "output_type": "stream",
     "text": [
      "average is 56.4\n"
     ]
    }
   ],
   "source": [
    "def average(*args):\n",
    "    tong = 0\n",
    "    total = 0\n",
    "    for i in args:\n",
    "        tong += i\n",
    "        total += 1\n",
    "        args = (tong) / (total)\n",
    "    return args\n",
    "print(f'average is {average(66,77,33,42,64)}')"
   ]
  },
  {
   "cell_type": "markdown",
   "id": "eabdd57c",
   "metadata": {},
   "source": [
    "# 4 "
   ]
  },
  {
   "cell_type": "code",
   "execution_count": 4,
   "id": "984c8ba7",
   "metadata": {},
   "outputs": [
    {
     "name": "stdout",
     "output_type": "stream",
     "text": [
      "2022-10-12 10:58:59.468628\n"
     ]
    }
   ],
   "source": [
    "import datetime\n",
    "def date_and_time():\n",
    "    date_and_time= datetime.datetime.today()\n",
    "    return date_and_time\n",
    "print(datetime.datetime.today())"
   ]
  },
  {
   "cell_type": "markdown",
   "id": "820da24e",
   "metadata": {},
   "source": [
    "# 5"
   ]
  },
  {
   "cell_type": "code",
   "execution_count": 5,
   "id": "0ad12578",
   "metadata": {},
   "outputs": [
    {
     "name": "stdout",
     "output_type": "stream",
     "text": [
      "degree is 3.141592653589793\n"
     ]
    }
   ],
   "source": [
    "from math import pi\n",
    "def radians(degrees):\n",
    "    for degrees in range(1,181):\n",
    "        degree = degrees\n",
    "        rad = degrees * pi/180\n",
    "    return rad\n",
    "print('degree is', radians(degrees=67))"
   ]
  },
  {
   "cell_type": "markdown",
   "id": "f572bc62",
   "metadata": {},
   "source": [
    "# 6"
   ]
  },
  {
   "cell_type": "code",
   "execution_count": null,
   "id": "009d9cdc",
   "metadata": {},
   "outputs": [
    {
     "name": "stdout",
     "output_type": "stream",
     "text": [
      "how much is 4 times 1?\n",
      "enter ur answer: 4\n",
      "very good\n",
      "how much is 6 times 4?\n",
      "enter ur answer: 24\n",
      "very good\n",
      "how much is 3 times 4?\n",
      "enter ur answer: 7\n",
      "No, please try again\n",
      "how much is 3 times 4?\n",
      "enter ur answer: 12\n",
      "very good\n",
      "how much is 1 times 2?\n"
     ]
    }
   ],
   "source": [
    "import random\n",
    "while True:\n",
    "   a = random.randrange(1, 10)\n",
    "   b = random.randrange(1, 10)\n",
    "   print(f'how much is {a} times {b}?')\n",
    "   ans = int(input('enter ur answer: '))\n",
    "   if ans == a * b:\n",
    "      print('very good')\n",
    "   elif ans != a * b:\n",
    "      print('No, please try again')\n",
    "      while True:\n",
    "         print(f'how much is {a} times {b}?')\n",
    "         ans = int(input('enter ur answer: '))\n",
    "         if ans == a * b:\n",
    "            print('very good')\n",
    "         elif ans != a * b:\n",
    "            print('No, please try again')\n",
    "         break"
   ]
  },
  {
   "cell_type": "markdown",
   "id": "6b41bf0f",
   "metadata": {},
   "source": [
    "# 7"
   ]
  },
  {
   "cell_type": "code",
   "execution_count": null,
   "id": "6fe67d86",
   "metadata": {
    "scrolled": true
   },
   "outputs": [
    {
     "name": "stdout",
     "output_type": "stream",
     "text": [
      "how much is 7 times 2?\n",
      "enter ur answer: 14\n",
      "Keep up the good work!\n",
      "how much is 6 times 5?\n",
      "enter ur answer: 30\n",
      "Very good!\n",
      "how much is 4 times 9?\n",
      "enter ur answer: 34\n",
      "No. Keep trying.\n",
      "how much is 4 times 9?\n"
     ]
    }
   ],
   "source": [
    "import random\n",
    "right = ['Very good!', 'Nice work!','Keep up the good work!']\n",
    "wrong = ['No. Please try again.', 'Wrong. Try once more.', 'No. Keep trying.']\n",
    "while True:\n",
    "   a = random.randrange(1, 10)\n",
    "   b = random.randrange(1, 10)\n",
    "   print(f'how much is {a} times {b}?')\n",
    "   ans = int(input('enter ur answer: '))\n",
    "   if ans == a * b:\n",
    "      print(random.choice(right))\n",
    "   elif ans != a * b:\n",
    "      print(random.choice(wrong))\n",
    "      while True:\n",
    "         print(f'how much is {a} times {b}?')\n",
    "         ans = int(input('enter ur answer: '))\n",
    "         if ans == a * b:\n",
    "            print(random.choice(right))\n",
    "         elif ans != a * b:\n",
    "            print(random.choice(wrong))\n",
    "         break"
   ]
  },
  {
   "cell_type": "markdown",
   "id": "20951c89",
   "metadata": {},
   "source": [
    "# 8\n"
   ]
  },
  {
   "cell_type": "code",
   "execution_count": 2,
   "id": "756bfb1f",
   "metadata": {},
   "outputs": [
    {
     "name": "stdout",
     "output_type": "stream",
     "text": [
      "How much is 3 times 10?: \n",
      "Enter the result: 30\n",
      "Correct!\n",
      "Do you want to play again? (yes/no): yes\n",
      "How much is 8 times 3?: \n",
      "Enter the result: 53\n",
      "You have made a mistake. The game is over.\n"
     ]
    }
   ],
   "source": [
    "import random\n",
    "\n",
    "x = random.randint(1,10)\n",
    "y = random.randint(1,10)\n",
    "\n",
    "def game():\n",
    "    print(f'How much is {x} times {y}?: ')\n",
    "    res = int(input('Enter the result: '))\n",
    "\n",
    "    while res == (x * y):\n",
    "        n = input('Correct!\\nDo you want to play again? (yes/no): ')\n",
    "        while n == 'yes':\n",
    "            a = random.randint(1,10)\n",
    "            b = random.randint(1,10)\n",
    "            print(f'How much is {a} times {b}?: ')\n",
    "            res = int(input('Enter the result: '))\n",
    "            if res == (a * b):\n",
    "                n = input('Correct!\\nDo you want to play again? (yes/no): ')\n",
    "            else:\n",
    "                break\n",
    "        if n == 'no':\n",
    "            print('The game is stopped.')\n",
    "            break\n",
    "        if (res != (x * y)):\n",
    "            break\n",
    "    return 'You have made a mistake. The game is over.'\n",
    "print(game())"
   ]
  },
  {
   "cell_type": "markdown",
   "id": "6a260a1a",
   "metadata": {},
   "source": [
    "# 9"
   ]
  },
  {
   "cell_type": "code",
   "execution_count": 3,
   "id": "fe3f31b4",
   "metadata": {},
   "outputs": [
    {
     "name": "stdout",
     "output_type": "stream",
     "text": [
      "How much is 1 times 6?: \n",
      "Enter the result: 6\n",
      "Correct!\n",
      "Do you want to play again? (yes/no): yes\n",
      "How much is 9 times 8?: \n",
      "Enter the result: 65\n",
      "You have made a mistake. The game is over.\n",
      "The total number of correct exercises is: 1.\n"
     ]
    }
   ],
   "source": [
    "import random\n",
    "\n",
    "x = random.randint(1,10)\n",
    "y = random.randint(1,10)\n",
    "\n",
    "def game():\n",
    "    print(f'How much is {x} times {y}?: ')\n",
    "    res = int(input('Enter the result: '))\n",
    "    correct = 0\n",
    "    while res == (x * y):\n",
    "        correct += 1\n",
    "        n = input('Correct!\\nDo you want to play again? (yes/no): ')\n",
    "        while n == 'yes':\n",
    "            a = random.randint(1,10)\n",
    "            b = random.randint(1,10)\n",
    "            print(f'How much is {a} times {b}?: ')\n",
    "            res = int(input('Enter the result: '))\n",
    "            if res == (a * b):\n",
    "                correct += 1\n",
    "                n = input('Correct!\\nDo you want to play again? (yes/no): ')\n",
    "            else:\n",
    "                break\n",
    "        if n == 'no':\n",
    "            print('The game is stopped.')\n",
    "            print(f'The total number of correct exercises is: {correct}')\n",
    "            break\n",
    "        if (res != (x * y)):\n",
    "            break\n",
    "    return f'You have made a mistake. The game is over.\\nThe total number of correct exercises is: {correct}.'\n",
    "\n",
    "print(game())"
   ]
  }
 ],
 "metadata": {
  "kernelspec": {
   "display_name": "Python 3 (ipykernel)",
   "language": "python",
   "name": "python3"
  },
  "language_info": {
   "codemirror_mode": {
    "name": "ipython",
    "version": 3
   },
   "file_extension": ".py",
   "mimetype": "text/x-python",
   "name": "python",
   "nbconvert_exporter": "python",
   "pygments_lexer": "ipython3",
   "version": "3.9.12"
  }
 },
 "nbformat": 4,
 "nbformat_minor": 5
}
