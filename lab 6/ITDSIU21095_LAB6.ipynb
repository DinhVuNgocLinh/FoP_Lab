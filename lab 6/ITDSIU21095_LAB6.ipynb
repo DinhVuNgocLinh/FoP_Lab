{
 "cells": [
  {
   "cell_type": "markdown",
   "id": "f616f827",
   "metadata": {},
   "source": [
    "#### 1.(Sorting Words in a Sentence) Write a script that reads a line of text as a string, tokenizes the string, and outputs the tokens in alphabetical order. Use space characters as delimiters.\n"
   ]
  },
  {
   "cell_type": "code",
   "execution_count": 1,
   "id": "034d4354",
   "metadata": {},
   "outputs": [
    {
     "name": "stdout",
     "output_type": "stream",
     "text": [
      "['a', 'is', 'sample', 'test', 'test,', 'text,', 'this']\n"
     ]
    }
   ],
   "source": [
    "#1.\n",
    "text = 'this is a sample text, test, test'\n",
    "word = text.split(' ')\n",
    "print(sorted(word))"
   ]
  },
  {
   "cell_type": "markdown",
   "id": "e461109e",
   "metadata": {},
   "source": [
    "#### 2. (Tokenizing and Comparing Strings) Write a script that reads a line of text, tokenizes the line using space characters as delimiters and outputs only those words begin- ning with the letter 'b'.\n"
   ]
  },
  {
   "cell_type": "code",
   "execution_count": 16,
   "id": "8e23ee78",
   "metadata": {},
   "outputs": [
    {
     "name": "stdout",
     "output_type": "stream",
     "text": [
      "['books', 'books', 'be', 'books', 'books']\n"
     ]
    }
   ],
   "source": [
    "#2.\n",
    "import re\n",
    "text = '''Firstly, electronic books, which is also called e-books, is an electronic device \n",
    "that is used to be downloaded and stored books from the internet. Meanwhile, \n",
    "printed books were made from paper with different paper materials.'''\n",
    "result = re.findall(r'\\b[b]\\w+\\b',text,re.I)\n",
    "print(result)"
   ]
  },
  {
   "cell_type": "markdown",
   "id": "c33215b6",
   "metadata": {},
   "source": [
    "#### 3. (Tokenizing and Comparing Strings) Write a script that reads a line of text, tokenizes it using space characters as delimiters and outputs only those words ending with the letters 'ed'"
   ]
  },
  {
   "cell_type": "code",
   "execution_count": 17,
   "id": "e61771f1",
   "metadata": {},
   "outputs": [
    {
     "name": "stdout",
     "output_type": "stream",
     "text": [
      "['called', 'used', 'downloaded', 'stored', 'printed']\n"
     ]
    }
   ],
   "source": [
    "#3\n",
    "import re\n",
    "text = '''Firstly, electronic books, which is also called e-books, is an electronic device \n",
    "that is used to be downloaded and stored books from the internet. Meanwhile, \n",
    "printed books were made from paper with different paper materials.'''\n",
    "result = re.findall(r'\\b\\w+ed\\b',text,re.I)\n",
    "print(result)"
   ]
  },
  {
   "cell_type": "markdown",
   "id": "7f45c4e5",
   "metadata": {},
   "source": [
    "#### 4. (Converting Integers to Characters) Use the c presentation type to display a table of the character codes in the range 0 to 255 and their corresponding characters.\n"
   ]
  },
  {
   "cell_type": "code",
   "execution_count": 5,
   "id": "e175f4ae",
   "metadata": {},
   "outputs": [
    {
     "name": "stdout",
     "output_type": "stream",
     "text": [
      "0 \u0000\n",
      "1 \u0001\n",
      "2 \u0002\n",
      "3 \u0003\n",
      "4 \u0004\n",
      "5 \u0005\n",
      "6 \u0006\n",
      "7 \u0007\n",
      "8 \b\n",
      "9 \t\n",
      "10 \n",
      "\n",
      "11 \u000b",
      "\n",
      "12 \f",
      "\n",
      "13 \r\n",
      "14 \u000e\n",
      "15 \u000f\n",
      "16 \u0010\n",
      "17 \u0011\n",
      "18 \u0012\n",
      "19 \u0013\n",
      "20 \u0014\n",
      "21 \u0015\n",
      "22 \u0016\n",
      "23 \u0017\n",
      "24 \u0018\n",
      "25 \u0019\n",
      "26 \u001a\n",
      "27 \u001b\n",
      "28 \u001c",
      "\n",
      "29 \u001d",
      "\n",
      "30 \u001e",
      "\n",
      "31 \u001f\n",
      "32  \n",
      "33 !\n",
      "34 \"\n",
      "35 #\n",
      "36 $\n",
      "37 %\n",
      "38 &\n",
      "39 '\n",
      "40 (\n",
      "41 )\n",
      "42 *\n",
      "43 +\n",
      "44 ,\n",
      "45 -\n",
      "46 .\n",
      "47 /\n",
      "48 0\n",
      "49 1\n",
      "50 2\n",
      "51 3\n",
      "52 4\n",
      "53 5\n",
      "54 6\n",
      "55 7\n",
      "56 8\n",
      "57 9\n",
      "58 :\n",
      "59 ;\n",
      "60 <\n",
      "61 =\n",
      "62 >\n",
      "63 ?\n",
      "64 @\n",
      "65 A\n",
      "66 B\n",
      "67 C\n",
      "68 D\n",
      "69 E\n",
      "70 F\n",
      "71 G\n",
      "72 H\n",
      "73 I\n",
      "74 J\n",
      "75 K\n",
      "76 L\n",
      "77 M\n",
      "78 N\n",
      "79 O\n",
      "80 P\n",
      "81 Q\n",
      "82 R\n",
      "83 S\n",
      "84 T\n",
      "85 U\n",
      "86 V\n",
      "87 W\n",
      "88 X\n",
      "89 Y\n",
      "90 Z\n",
      "91 [\n",
      "92 \\\n",
      "93 ]\n",
      "94 ^\n",
      "95 _\n",
      "96 `\n",
      "97 a\n",
      "98 b\n",
      "99 c\n",
      "100 d\n",
      "101 e\n",
      "102 f\n",
      "103 g\n",
      "104 h\n",
      "105 i\n",
      "106 j\n",
      "107 k\n",
      "108 l\n",
      "109 m\n",
      "110 n\n",
      "111 o\n",
      "112 p\n",
      "113 q\n",
      "114 r\n",
      "115 s\n",
      "116 t\n",
      "117 u\n",
      "118 v\n",
      "119 w\n",
      "120 x\n",
      "121 y\n",
      "122 z\n",
      "123 {\n",
      "124 |\n",
      "125 }\n",
      "126 ~\n",
      "127 \n",
      "128 \n",
      "129 \n",
      "130 \n",
      "131 \n",
      "132 \n",
      "133 ",
      "\n",
      "134 \n",
      "135 \n",
      "136 \n",
      "137 \n",
      "138 \n",
      "139 \n",
      "140 \n",
      "141 \n",
      "142 \n",
      "143 \n",
      "144 \n",
      "145 \n",
      "146 \n",
      "147 \n",
      "148 \n",
      "149 \n",
      "150 \n",
      "151 \n",
      "152 \n",
      "153 \n",
      "154 \n",
      "155 \n",
      "156 \n",
      "157 \n",
      "158 \n",
      "159 \n",
      "160  \n",
      "161 ¡\n",
      "162 ¢\n",
      "163 £\n",
      "164 ¤\n",
      "165 ¥\n",
      "166 ¦\n",
      "167 §\n",
      "168 ¨\n",
      "169 ©\n",
      "170 ª\n",
      "171 «\n",
      "172 ¬\n",
      "173 ­\n",
      "174 ®\n",
      "175 ¯\n",
      "176 °\n",
      "177 ±\n",
      "178 ²\n",
      "179 ³\n",
      "180 ´\n",
      "181 µ\n",
      "182 ¶\n",
      "183 ·\n",
      "184 ¸\n",
      "185 ¹\n",
      "186 º\n",
      "187 »\n",
      "188 ¼\n",
      "189 ½\n",
      "190 ¾\n",
      "191 ¿\n",
      "192 À\n",
      "193 Á\n",
      "194 Â\n",
      "195 Ã\n",
      "196 Ä\n",
      "197 Å\n",
      "198 Æ\n",
      "199 Ç\n",
      "200 È\n",
      "201 É\n",
      "202 Ê\n",
      "203 Ë\n",
      "204 Ì\n",
      "205 Í\n",
      "206 Î\n",
      "207 Ï\n",
      "208 Ð\n",
      "209 Ñ\n",
      "210 Ò\n",
      "211 Ó\n",
      "212 Ô\n",
      "213 Õ\n",
      "214 Ö\n",
      "215 ×\n",
      "216 Ø\n",
      "217 Ù\n",
      "218 Ú\n",
      "219 Û\n",
      "220 Ü\n",
      "221 Ý\n",
      "222 Þ\n",
      "223 ß\n",
      "224 à\n",
      "225 á\n",
      "226 â\n",
      "227 ã\n",
      "228 ä\n",
      "229 å\n",
      "230 æ\n",
      "231 ç\n",
      "232 è\n",
      "233 é\n",
      "234 ê\n",
      "235 ë\n",
      "236 ì\n",
      "237 í\n",
      "238 î\n",
      "239 ï\n",
      "240 ð\n",
      "241 ñ\n",
      "242 ò\n",
      "243 ó\n",
      "244 ô\n",
      "245 õ\n",
      "246 ö\n",
      "247 ÷\n",
      "248 ø\n",
      "249 ù\n",
      "250 ú\n",
      "251 û\n",
      "252 ü\n",
      "253 ý\n",
      "254 þ\n",
      "255 ÿ\n"
     ]
    }
   ],
   "source": [
    "#4.\n",
    "for i in range (0,256):\n",
    "    print(i,chr(i))"
   ]
  },
  {
   "attachments": {
    "image.png": {
     "image/png": "[encoded data removed]"
    }
   },
   "cell_type": "markdown",
   "id": "a75cd6a4",
   "metadata": {},
   "source": [
    "#### 5. (Converting Integers to Emojis) Modify the previous exercise to display 10 emojis beginning with the smiley face, which has the value 0x1F600:![image.png](attachment:image.png)\n",
    "\n",
    "The value 0x1F600 is a hexadecimal (base 16) integer. See the online appendix\n",
    "“Number Systems” for information on the hexadecimal number system. You can find\n",
    "emoji codes by searching online for “Unicode full emoji list.” The Unicode website\n",
    "precedes each character code with \"U+\" (representing Unicode). Replace \"U+\" with \"0x\"\n",
    "to properly format the code as a Python hexadecimal integer.\n"
   ]
  },
  {
   "cell_type": "code",
   "execution_count": 6,
   "id": "ccb73723",
   "metadata": {},
   "outputs": [
    {
     "name": "stdout",
     "output_type": "stream",
     "text": [
      "😀\n",
      "😁\n",
      "😂\n",
      "😃\n",
      "😄\n",
      "😅\n",
      "😆\n",
      "😇\n",
      "😈\n",
      "😉\n"
     ]
    }
   ],
   "source": [
    "#5.\n",
    "x = 0x1F600\n",
    "for i in range(10):\n",
    "    print(chr(x+i))"
   ]
  },
  {
   "cell_type": "markdown",
   "id": "1ee10a18",
   "metadata": {},
   "source": [
    "#### 6. (Counting Vowels in a Sentence) Write a script that reads a phrase and calculates the number of vowels used in it. To assess if a character in the string is a vowel, check if it is present in a second string. The second string consists of the vowels “aeiou.” For example, the letter “a” is present in the string “aeiou” and is thus considered a vowel. Count all the vowels in the given string and output this number to the user.\n"
   ]
  },
  {
   "cell_type": "code",
   "execution_count": 18,
   "id": "8bf37b47",
   "metadata": {},
   "outputs": [
    {
     "name": "stdout",
     "output_type": "stream",
     "text": [
      "a :  19\n",
      "e :  29\n",
      "i :  10\n",
      "o :  13\n",
      "u :  10\n"
     ]
    }
   ],
   "source": [
    "#6.\n",
    "s = '''We had our heads in the clouds\n",
    "Thought we had it all figured out\n",
    "Planning to fly away\n",
    "To escape everything on the ground\n",
    "But like a plane up in space\n",
    "We slowly drifted away\n",
    "And every plan that we made\n",
    "And dream that we chased\n",
    "Are just memories now\n",
    "They're just memories now'''\n",
    "count = 0\n",
    "a = 0\n",
    "e = 0\n",
    "i = 0\n",
    "o = 0\n",
    "u = 0\n",
    "for m in range(len(s)):\n",
    "  if s[m] =='a':\n",
    "    a += 1\n",
    "  elif s[m] =='e':\n",
    "    e += 1\n",
    "  elif s[m] =='i':\n",
    "    i += 1\n",
    "  elif s[m] =='o':\n",
    "    o += 1\n",
    "  elif s[m] =='u':\n",
    "    u += 1\n",
    "print('a : ',a)\n",
    "print('e : ',e)\n",
    "print('i : ',i)\n",
    "print('o : ',o)\n",
    "print('u : ',u)\n"
   ]
  },
  {
   "cell_type": "markdown",
   "id": "d109cdaf",
   "metadata": {},
   "source": [
    "#### 7. Write a script that enables the user to enter mathematical word problems like “two times three” and “seven minus five”, then use string processing to break apart the string into the numbers and the operation and return the result. So “two times three” would return 6 and “seven minus five” would return 2. To keep things simple, assume the user enters only the words for the numbers 0 through 9 and only the operations 'plus', 'minus', 'times' and 'divided by'.\n"
   ]
  },
  {
   "cell_type": "code",
   "execution_count": 15,
   "id": "df89d8cd",
   "metadata": {},
   "outputs": [
    {
     "name": "stdout",
     "output_type": "stream",
     "text": [
      "Enter your mathematical word problems: four times eight\n",
      "32\n"
     ]
    }
   ],
   "source": [
    "#7\n",
    "number = input('Enter your mathematical word problems: ')\n",
    "this_dict = {'one':1,'two':2,'three':3,'four':4,'five':5,'six':6,'seven':7,'eight':8,'nine':9}\n",
    "a,b,c = number.split()\n",
    "if a in this_dict:\n",
    "  x = this_dict[a] \n",
    "if c in this_dict:\n",
    "  y = this_dict[c]\n",
    "if b == 'plus':\n",
    "  result = x + y\n",
    "  print(result)\n",
    "elif b == 'minus':\n",
    "  result = x - y\n",
    "  print(result)\n",
    "elif b == 'times':\n",
    "  result = x * y\n",
    "  print(result)\n",
    "elif b == 'divided by':\n",
    "  result = x/y\n",
    "  print(result)"
   ]
  },
  {
   "cell_type": "markdown",
   "id": "b2899586",
   "metadata": {},
   "source": [
    "#### 8. (Regular Expressions: Replacing Substrings) Use regular expressions to change the name in a line from a poem.\n",
    "**‘Jennifer, you are more beautiful than the most beautiful rose’**\n"
   ]
  },
  {
   "cell_type": "code",
   "execution_count": 9,
   "id": "49522f76",
   "metadata": {},
   "outputs": [
    {
     "name": "stdout",
     "output_type": "stream",
     "text": [
      "enter a name: Amy\n",
      "Amy, you are more beautiful than the most beautiful rose\n"
     ]
    }
   ],
   "source": [
    "#8.\n",
    "import re\n",
    "poem = 'Jennifer, you are more beautiful than the most beautiful rose'\n",
    "name = str(input('enter a name: '))\n",
    "replace = re.sub(r'Jennifer',f'{name}',poem)\n",
    "print(replace)"
   ]
  },
  {
   "cell_type": "markdown",
   "id": "84685933",
   "metadata": {},
   "source": [
    "#### 9. Using Regex, write a script that reads a line of text, to- kenizes the line using space characters as delimiters and outputs only those words begin- ning with the letter 'b'."
   ]
  },
  {
   "cell_type": "code",
   "execution_count": null,
   "id": "344d72fe",
   "metadata": {},
   "outputs": [],
   "source": [
    "#9\n",
    "import re\n",
    "text = '''Firstly, electronic books, which is also called e-books, is an electronic device \n",
    "that is used to be downloaded and stored books from the internet. Meanwhile, \n",
    "printed books were made from paper with different paper materials.'''\n",
    "result = re.findall(r'\\b[b]\\w+\\b',text,re.I)\n",
    "print(result)"
   ]
  },
  {
   "cell_type": "markdown",
   "id": "5576965a",
   "metadata": {},
   "source": [
    "#### 10. Using Regex, write a script that reads a line of text, to- kenizes it using space characters as delimiters and outputs only those words ending with the letters 'ed'"
   ]
  },
  {
   "cell_type": "code",
   "execution_count": 10,
   "id": "b4fb4eff",
   "metadata": {},
   "outputs": [
    {
     "name": "stdout",
     "output_type": "stream",
     "text": [
      "['called', 'used', 'downloaded', 'stored', 'printed']\n"
     ]
    }
   ],
   "source": [
    "#10\n",
    "import re\n",
    "text = '''Firstly, electronic books, which is also called e-books, is an electronic device \n",
    "that is used to be downloaded and stored books from the internet. Meanwhile, \n",
    "printed books were made from paper with different paper materials.'''\n",
    "result = re.findall(r'\\b\\w+ed\\b',text,re.I)\n",
    "print(result)"
   ]
  },
  {
   "cell_type": "markdown",
   "id": "b37cb233",
   "metadata": {},
   "source": [
    "#### 11. (Regular Expressions: Count Number of Occurrences of a Letter) Use the findall function to check the number of occurrences of the letter “a” in the sentence. \n",
    "**‘The mouse that the cat that the dog that the man frightened and chased ran away’**\n"
   ]
  },
  {
   "cell_type": "code",
   "execution_count": 12,
   "id": "c56f0451",
   "metadata": {},
   "outputs": [
    {
     "name": "stdout",
     "output_type": "stream",
     "text": [
      "The number of occurrences of the letter “a” in the sentence: 9\n"
     ]
    }
   ],
   "source": [
    "import re\n",
    "text ='''The mouse that the cat that the dog that the man frightened and chased ran away'''\n",
    "a = re.findall(r'\\b\\w*[a]\\w*\\b', text, re.I)\n",
    "print('The number of occurrences of the letter “a” in the sentence:',len(a))"
   ]
  },
  {
   "cell_type": "markdown",
   "id": "e4810176",
   "metadata": {},
   "source": [
    "#### 12. (Regular Expressions: Locating URLs) Use a regular expression to search through a string and to locate all valid URLs. For this exercise, assume that a valid URL has the form http://www.domain_name.extension, where extension must be two or more characters."
   ]
  },
  {
   "cell_type": "code",
   "execution_count": 19,
   "id": "5deabd74",
   "metadata": {},
   "outputs": [
    {
     "name": "stdout",
     "output_type": "stream",
     "text": [
      "['https://www.youtube.com', 'https://www.google.com']\n"
     ]
    }
   ],
   "source": [
    "import re\n",
    "email = \"EM LINH XINH DEP, https://www.youtube.com,https://www.google.com, bunny xinh gai\"\n",
    "result = re.findall(r'(\\w+://\\w+\\.\\w+\\.\\w{2,})',email)\n",
    "print(result)"
   ]
  },
  {
   "cell_type": "markdown",
   "id": "6466fa0f",
   "metadata": {},
   "source": [
    "#### 13. (Using Regular Expressions for Autocorrection) When we type a message on a smartphone, autocorrect changes the text we enter to remove errors. One common error is using two capital letters to start a capitalized word instead of one. Write a script that uses regular expressions to correct this error using the following algorithm:\n",
    "\n",
    "a) Search for all capitalized letters in the sample text.\n",
    "\n",
    "b) Check for each capitalized letter if the next letter is also capitalized.\n",
    "\n",
    "c) If this is the case, change the second letter to lowercase.\n",
    "\n",
    "d) Repeat this process until you reach the end of the phrase.\n",
    "\n",
    "Test your script with different phrases with different errors.\n"
   ]
  },
  {
   "cell_type": "markdown",
   "id": "3b752be5",
   "metadata": {},
   "source": [
    "#### 14.(Using Regular Expressions for Password Validation) When choosing a password, a user is often confronted with a set of rules they have to comply with in order to set a valid password. Write a script using the necessary regular expressions to check if a password is valid. For a chosen password to be valid, it should contain at least one lowercase and one uppercase letter and at least one number. The use of whites paces in a password is not allowed. Provide the necessary feedback to the user for their chosen password."
   ]
  },
  {
   "cell_type": "code",
   "execution_count": 14,
   "id": "b454445c",
   "metadata": {},
   "outputs": [
    {
     "name": "stdout",
     "output_type": "stream",
     "text": [
      "password: HGkjg87\n",
      "Valid\n"
     ]
    }
   ],
   "source": [
    "import re\n",
    "password = input('password: ')\n",
    "a = re.findall('[a-z]',password)\n",
    "A = re.findall('[A-Z]',password)\n",
    "n = re.findall('[0-9]',password)\n",
    "s = re.findall('[^a-zA-Z0-9]',password)\n",
    "if len(s) > 0:\n",
    "  print('Invalid') \n",
    "elif len(a) < 1:\n",
    "  print('Invalid')\n",
    "elif len(A) < 1:\n",
    "  print('Invalid')\n",
    "elif len(n) < 1:\n",
    "  print('Invalid')\n",
    "else:\n",
    "  print('Valid')"
   ]
  }
 ],
 "metadata": {
  "kernelspec": {
   "display_name": "Python 3 (ipykernel)",
   "language": "python",
   "name": "python3"
  },
  "language_info": {
   "codemirror_mode": {
    "name": "ipython",
    "version": 3
   },
   "file_extension": ".py",
   "mimetype": "text/x-python",
   "name": "python",
   "nbconvert_exporter": "python",
   "pygments_lexer": "ipython3",
   "version": "3.9.12"
  }
 },
 "nbformat": 4,
 "nbformat_minor": 5
}
