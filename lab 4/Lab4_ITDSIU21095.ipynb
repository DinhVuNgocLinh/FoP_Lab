{
 "cells": [
  {
   "cell_type": "markdown",
   "id": "7e0d2021",
   "metadata": {},
   "source": [
    "Student name: Đinh Vũ Ngọc Linh\n",
    "\n",
    "Student ID: ITDSIU21095"
   ]
  },
  {
   "cell_type": "markdown",
   "id": "e33c6875",
   "metadata": {},
   "source": [
    "# 1"
   ]
  },
  {
   "cell_type": "code",
   "execution_count": 1,
   "id": "0d55f49c",
   "metadata": {},
   "outputs": [
    {
     "name": "stdout",
     "output_type": "stream",
     "text": [
      "the 3rd number is 3\n",
      "the first five numbers is [1, 2, 3, 4, 5]\n",
      "the 1st half of the list is [1, 2, 3, 4, 5, 6, 7, 8, 9, 10]\n",
      "the last 5 number [16, 17, 18, 19, 20]\n",
      "every other number [1, 3, 5, 7, 9, 11, 13, 15, 17, 19]\n",
      "The numbers in reverse order [20, 19, 18, 17, 16, 15, 14, 13, 12, 11, 10, 9, 8, 7, 6, 5, 4, 3, 2, 1]\n",
      "The third last number 18\n"
     ]
    }
   ],
   "source": [
    "num = [1, 2, 3, 4, 5, 6, 7, 8, 9, 10, 11, 12, 13, 14, 15, 16, 17, 18, 19, 20]\n",
    "print('the 3rd number is', num[2])\n",
    "print('the first five numbers is',num[:5])\n",
    "print('the 1st half of the list is',num[:len(num)//2])\n",
    "print('the last 5 number', num[-5:])\n",
    "print('every other number',num[::2])\n",
    "print('The numbers in reverse order',num[::-1])\n",
    "print('The third last number',num[-3])"
   ]
  },
  {
   "cell_type": "markdown",
   "id": "84f9ad46",
   "metadata": {},
   "source": [
    "# 2"
   ]
  },
  {
   "cell_type": "code",
   "execution_count": 5,
   "id": "18ab0fb5",
   "metadata": {},
   "outputs": [],
   "source": [
    "def sub_fb(num1,num2,num3):\n",
    "    num4 = num2 +num3\n",
    "    num5 = num3 + num4\n",
    "    num6 = num4 + num5\n",
    "    return num4, num5, num6"
   ]
  },
  {
   "cell_type": "markdown",
   "id": "4af6dab3",
   "metadata": {},
   "source": [
    "# 3"
   ]
  },
  {
   "cell_type": "code",
   "execution_count": 8,
   "id": "e7c82c47",
   "metadata": {},
   "outputs": [
    {
     "name": "stdout",
     "output_type": "stream",
     "text": [
      "the new list is 33 34 67 43 23 22 87\n"
     ]
    }
   ],
   "source": [
    "alist = [23,34,67,87,22,43,34,87,23,33,22,34]\n",
    "def unique(alist):\n",
    "    set_list = set(alist)\n",
    "    unique_list = list(set_list)\n",
    "    for i in unique_list:\n",
    "       newlist = [i for i in unique_list]\n",
    "    print('the new list is',*newlist)\n",
    "unique(alist)"
   ]
  },
  {
   "cell_type": "markdown",
   "id": "b5092903",
   "metadata": {},
   "source": [
    "# 4"
   ]
  },
  {
   "cell_type": "code",
   "execution_count": 4,
   "id": "a1f0cbac",
   "metadata": {},
   "outputs": [],
   "source": []
  },
  {
   "cell_type": "markdown",
   "id": "88ea79cd",
   "metadata": {},
   "source": [
    "# 5"
   ]
  },
  {
   "cell_type": "code",
   "execution_count": 3,
   "id": "ee6d48a9",
   "metadata": {},
   "outputs": [
    {
     "name": "stdout",
     "output_type": "stream",
     "text": [
      "radar\n",
      "False\n",
      "rader\n",
      "True\n",
      "radar\n"
     ]
    },
    {
     "data": {
      "text/plain": [
       "False"
      ]
     },
     "execution_count": 3,
     "metadata": {},
     "output_type": "execute_result"
    }
   ],
   "source": [
    "def Pun(string):\n",
    "    new_string = \"\"\n",
    "    reverse_string = \"\"\n",
    "    pun = '''!@#$%^&*()_+-={}[]:\";'<>?,./ ~`'''\n",
    "    for i in string.lower():\n",
    "        if i in pun:\n",
    "            string = string.replace(i, \"\")\n",
    "            new_string = string + new_string\n",
    "            reverse_string = string + reverse_string\n",
    "    print(string.lower())\n",
    "    if new_string[::-1]==reverse_string:\n",
    "        return True\n",
    "    return False\n",
    "\n",
    "print(Pun(\"rA;da. .R\"))\n",
    "print(Pun('rader'))\n",
    "Pun(string)"
   ]
  },
  {
   "cell_type": "markdown",
   "id": "7a642fe2",
   "metadata": {},
   "source": [
    "# 6"
   ]
  },
  {
   "cell_type": "code",
   "execution_count": 9,
   "id": "49ae638c",
   "metadata": {},
   "outputs": [
    {
     "name": "stdout",
     "output_type": "stream",
     "text": [
      "The Encrytion key is: givemykplasdonthrwbcfjquxz\n"
     ]
    }
   ],
   "source": [
    "import string\n",
    "\n",
    "key = \"Give me my key please! Don't hesitate to generate one now.\"\n",
    "\n",
    "lower = key.lower() #remove the capital\n",
    "remove_space = lower.replace(\" \",'')\n",
    "new_string = remove_space.translate(str.maketrans('', '', string.punctuation)) #remove punctuation\n",
    "#remove duplication and add the remain letters of the aplphabet:\n",
    "alphabet = list(string.ascii_lowercase)\n",
    "p = \"\" # The Encryption key\n",
    "\n",
    "for char in new_string:\n",
    "    if char not in p:\n",
    "        p = p + char\n",
    "for ele in alphabet:\n",
    "    if ele not in new_string:\n",
    "        p = p + ele\n",
    "print('The Encrytion key is:', p)\n"
   ]
  },
  {
   "cell_type": "markdown",
   "id": "702322ad",
   "metadata": {},
   "source": [
    "# 7"
   ]
  },
  {
   "cell_type": "code",
   "execution_count": null,
   "id": "cb8fa49c",
   "metadata": {},
   "outputs": [],
   "source": []
  },
  {
   "cell_type": "markdown",
   "id": "1cda8739",
   "metadata": {},
   "source": [
    "# 8"
   ]
  },
  {
   "cell_type": "code",
   "execution_count": 10,
   "id": "15788eef",
   "metadata": {},
   "outputs": [
    {
     "name": "stdout",
     "output_type": "stream",
     "text": [
      "[24, 25, 41, 45, 67, 78, 98]\n",
      "True\n"
     ]
    }
   ],
   "source": [
    "import collections\n",
    "alist = []\n",
    "\n",
    "#develope function\n",
    "def insertion_sort(*args):\n",
    "    for i in args:\n",
    "        alist.append(i)\n",
    "    for i in range(0,len(alist)-1):\n",
    "        for j in range(i+1,len(alist)):\n",
    "            if (alist[i]>alist[j]):\n",
    "                alist[i],alist[j] = alist[j],alist[i]\n",
    "    return alist\n",
    "\n",
    "def is_sorted():\n",
    "    if collections.Counter(insertion_sort()) == collections.Counter(sorted(alist)):\n",
    "        return 'True'\n",
    "    else:\n",
    "        return 'False'\n",
    "\n",
    "\n",
    "#function call:\n",
    "print(insertion_sort(24,45,78,98,25,67,41))\n",
    "print(is_sorted())"
   ]
  },
  {
   "cell_type": "markdown",
   "id": "6044d784",
   "metadata": {},
   "source": [
    "# 9"
   ]
  },
  {
   "cell_type": "code",
   "execution_count": null,
   "id": "8c527010",
   "metadata": {},
   "outputs": [],
   "source": []
  },
  {
   "cell_type": "markdown",
   "id": "18d6ab22",
   "metadata": {},
   "source": [
    "# 10"
   ]
  },
  {
   "cell_type": "code",
   "execution_count": 6,
   "id": "1e2d16cc",
   "metadata": {},
   "outputs": [],
   "source": [
    "# use filter, map and sum\n",
    "numbers = list(range(1,11))\n",
    "even_num= list(filter(lambda x: x%2 == 0, numbers))\n",
    "triples = list(map(lambda x: x*3, numbers))\n",
    "total = sum(triples)\n",
    "# use list comprehensions\n",
    "numbers = list(range(1,11))\n",
    "even_num = [x for x in numbers if x%2==0]\n",
    "triples = [x*3 for x in numbers]\n",
    "total = sum(triples)"
   ]
  },
  {
   "cell_type": "markdown",
   "id": "ac91cebc",
   "metadata": {},
   "source": [
    "# 11"
   ]
  },
  {
   "cell_type": "code",
   "execution_count": 6,
   "id": "c733d1f0",
   "metadata": {},
   "outputs": [
    {
     "name": "stdout",
     "output_type": "stream",
     "text": [
      "('Tram', 'Nguyen') ('Sang', 'Nguyen')\n"
     ]
    }
   ],
   "source": [
    "listname = [('Hang','Trinh'),('Hang','Dinh'),('Tram','Nguyen'),('Long','Hoang'),\n",
    "            ('Binh','Le'),('Linh','Dinh'),('Sang','Nguyen'),('My','Le')]\n",
    "name = list(filter(lambda x: 'Nguyen' in x, listname))\n",
    "print(*name)\n"
   ]
  }
 ],
 "metadata": {
  "kernelspec": {
   "display_name": "Python 3 (ipykernel)",
   "language": "python",
   "name": "python3"
  },
  "language_info": {
   "codemirror_mode": {
    "name": "ipython",
    "version": 3
   },
   "file_extension": ".py",
   "mimetype": "text/x-python",
   "name": "python",
   "nbconvert_exporter": "python",
   "pygments_lexer": "ipython3",
   "version": "3.9.12"
  }
 },
 "nbformat": 4,
 "nbformat_minor": 5
}
