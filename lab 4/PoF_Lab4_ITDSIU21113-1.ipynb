{
  "nbformat": 4,
  "nbformat_minor": 0,
  "metadata": {
    "colab": {
      "provenance": []
    },
    "kernelspec": {
      "name": "python3",
      "display_name": "Python 3"
    },
    "language_info": {
      "name": "python"
    }
  },
  "cells": [
    {
      "cell_type": "markdown",
      "source": [
        "# NAME: NGUYEN QUANG SANG"
      ],
      "metadata": {
        "id": "Mg3FZ1R0VxwI"
      }
    },
    {
      "cell_type": "markdown",
      "source": [
        "# ID: ITDSIU21113"
      ],
      "metadata": {
        "id": "fS14gbSpVxN8"
      }
    },
    {
      "cell_type": "markdown",
      "source": [
        "1. (List Slicing) Create a list called numbers containing \"1, 2, 3, 4, 5, 6, 7, 8, 9, 10, 11, 12, 13, 14, 15, 16, 17, 18, 19, 20,\" then perform slicing operations to obtain the following:\n"
      ],
      "metadata": {
        "id": "mCda9e5lV9BX"
      }
    },
    {
      "cell_type": "code",
      "source": [
        "# create a list\n",
        "numbers = list(range(1,21))\n",
        "numbers"
      ],
      "metadata": {
        "colab": {
          "base_uri": "https://localhost:8080/"
        },
        "id": "LuiaixSybc2H",
        "outputId": "18f374e8-d1ae-44b3-b624-828d044ce18d"
      },
      "execution_count": null,
      "outputs": [
        {
          "output_type": "execute_result",
          "data": {
            "text/plain": [
              "[1, 2, 3, 4, 5, 6, 7, 8, 9, 10, 11, 12, 13, 14, 15, 16, 17, 18, 19, 20]"
            ]
          },
          "metadata": {},
          "execution_count": 1
        }
      ]
    },
    {
      "cell_type": "markdown",
      "source": [
        "a) The third number"
      ],
      "metadata": {
        "id": "W60wJFzEWE_n"
      }
    },
    {
      "cell_type": "code",
      "execution_count": null,
      "metadata": {
        "colab": {
          "base_uri": "https://localhost:8080/"
        },
        "id": "uIBjik7mVGdQ",
        "outputId": "2c5167c3-28b3-4d70-da6d-99598dad6007"
      },
      "outputs": [
        {
          "output_type": "execute_result",
          "data": {
            "text/plain": [
              "[3]"
            ]
          },
          "metadata": {},
          "execution_count": 15
        }
      ],
      "source": [
        "numbers[2:3]"
      ]
    },
    {
      "cell_type": "markdown",
      "source": [
        "b) The first five numbers"
      ],
      "metadata": {
        "id": "HFUSHbLGb3-k"
      }
    },
    {
      "cell_type": "code",
      "source": [
        "numbers[:5]"
      ],
      "metadata": {
        "colab": {
          "base_uri": "https://localhost:8080/"
        },
        "id": "vOT8IQurb4L-",
        "outputId": "1247fcf9-543f-42db-b764-3b4f0d1323d4"
      },
      "execution_count": null,
      "outputs": [
        {
          "output_type": "execute_result",
          "data": {
            "text/plain": [
              "[1, 2, 3, 4, 5]"
            ]
          },
          "metadata": {},
          "execution_count": 14
        }
      ]
    },
    {
      "cell_type": "markdown",
      "source": [
        "c) The first half of the list"
      ],
      "metadata": {
        "id": "xGi7lTePdNOC"
      }
    },
    {
      "cell_type": "code",
      "source": [
        "numbers[:10]"
      ],
      "metadata": {
        "colab": {
          "base_uri": "https://localhost:8080/"
        },
        "id": "pYECZQM0dNZu",
        "outputId": "68158803-4931-40c4-d371-005fa4070782"
      },
      "execution_count": null,
      "outputs": [
        {
          "output_type": "execute_result",
          "data": {
            "text/plain": [
              "[1, 2, 3, 4, 5, 6, 7, 8, 9, 10]"
            ]
          },
          "metadata": {},
          "execution_count": 13
        }
      ]
    },
    {
      "cell_type": "markdown",
      "source": [
        "d) The last five numbers"
      ],
      "metadata": {
        "id": "3POVhUBYdWs8"
      }
    },
    {
      "cell_type": "code",
      "source": [
        "numbers[-5:]"
      ],
      "metadata": {
        "colab": {
          "base_uri": "https://localhost:8080/"
        },
        "id": "x6ZGqv8ldW9f",
        "outputId": "51062dd5-5bca-4e88-d022-4f72318a2f5d"
      },
      "execution_count": null,
      "outputs": [
        {
          "output_type": "execute_result",
          "data": {
            "text/plain": [
              "[16, 17, 18, 19, 20]"
            ]
          },
          "metadata": {},
          "execution_count": 16
        }
      ]
    },
    {
      "cell_type": "markdown",
      "source": [
        "e) Every other number"
      ],
      "metadata": {
        "id": "K6XXxQn5ecgL"
      }
    },
    {
      "cell_type": "code",
      "source": [
        "numbers[10:15]"
      ],
      "metadata": {
        "id": "tKXnv43vgK6i",
        "colab": {
          "base_uri": "https://localhost:8080/"
        },
        "outputId": "64aed794-0b8d-4488-e85c-bfb7159c19b5"
      },
      "execution_count": null,
      "outputs": [
        {
          "output_type": "execute_result",
          "data": {
            "text/plain": [
              "[11, 12, 13, 14, 15]"
            ]
          },
          "metadata": {},
          "execution_count": 7
        }
      ]
    },
    {
      "cell_type": "markdown",
      "source": [
        "f) The numbers in reverse order"
      ],
      "metadata": {
        "id": "0-ODeomSgFmr"
      }
    },
    {
      "cell_type": "code",
      "source": [
        "numbers[::-1]"
      ],
      "metadata": {
        "colab": {
          "base_uri": "https://localhost:8080/"
        },
        "id": "QoomQ9v-eco8",
        "outputId": "0ccb089a-3f7c-4aa1-caf7-f33ee84c52b2"
      },
      "execution_count": null,
      "outputs": [
        {
          "output_type": "execute_result",
          "data": {
            "text/plain": [
              "[20, 19, 18, 17, 16, 15, 14, 13, 12, 11, 10, 9, 8, 7, 6, 5, 4, 3, 2, 1]"
            ]
          },
          "metadata": {},
          "execution_count": 8
        }
      ]
    },
    {
      "cell_type": "markdown",
      "source": [
        "g) The third last number"
      ],
      "metadata": {
        "id": "mk3auiz4gMBM"
      }
    },
    {
      "cell_type": "code",
      "source": [
        "numbers[-3:-2]"
      ],
      "metadata": {
        "colab": {
          "base_uri": "https://localhost:8080/"
        },
        "id": "rXgkjHtmgLvC",
        "outputId": "612e1944-894e-42cc-b813-10bc3333e6d7"
      },
      "execution_count": null,
      "outputs": [
        {
          "output_type": "execute_result",
          "data": {
            "text/plain": [
              "[18]"
            ]
          },
          "metadata": {},
          "execution_count": 9
        }
      ]
    },
    {
      "cell_type": "markdown",
      "source": [
        "2. (Fibonacci) The Fibonacci numbers are a sequence in which each number is the sum of the two preceding ones. Define a function fib that receives three consecutive numbers of the Fibonacci series and returns the three subsequent values. Then, call the function three times starting with the numbers 0, 1,and 1 and restarting the function each time with the resulting numbers of the previous iteration."
      ],
      "metadata": {
        "id": "oA7nHXqfhDvv"
      }
    },
    {
      "cell_type": "code",
      "source": [
        "def sub_fib(n1, n2, n3):\n",
        "  n4 = n2 + n3\n",
        "  n5 = n3 + n4\n",
        "  n6 = n4 + n5\n",
        "  return n4, n5, n6"
      ],
      "metadata": {
        "id": "E9M2H0Ih0s1K"
      },
      "execution_count": null,
      "outputs": []
    },
    {
      "cell_type": "code",
      "source": [
        "sub_fib(0, 1, 1)"
      ],
      "metadata": {
        "colab": {
          "base_uri": "https://localhost:8080/"
        },
        "id": "5Fw4BArDAbMa",
        "outputId": "d4261479-4411-43af-d8a9-7fec5c197e26"
      },
      "execution_count": null,
      "outputs": [
        {
          "output_type": "execute_result",
          "data": {
            "text/plain": [
              "(2, 3, 5)"
            ]
          },
          "metadata": {},
          "execution_count": 11
        }
      ]
    },
    {
      "cell_type": "code",
      "source": [
        "sub_fib(2, 3, 5)"
      ],
      "metadata": {
        "colab": {
          "base_uri": "https://localhost:8080/"
        },
        "id": "j7x105h2Av4s",
        "outputId": "f04a09ca-ecb2-4dfc-b147-d1e7a4a1b12a"
      },
      "execution_count": null,
      "outputs": [
        {
          "output_type": "execute_result",
          "data": {
            "text/plain": [
              "(8, 13, 21)"
            ]
          },
          "metadata": {},
          "execution_count": 13
        }
      ]
    },
    {
      "cell_type": "code",
      "source": [
        "sub_fib(8, 13, 21)"
      ],
      "metadata": {
        "colab": {
          "base_uri": "https://localhost:8080/"
        },
        "id": "H2meemABA1Wx",
        "outputId": "f892bd89-c4ea-48aa-a84e-e5fe3ca9768f"
      },
      "execution_count": null,
      "outputs": [
        {
          "output_type": "execute_result",
          "data": {
            "text/plain": [
              "(34, 55, 89)"
            ]
          },
          "metadata": {},
          "execution_count": 14
        }
      ]
    },
    {
      "cell_type": "markdown",
      "source": [
        "3. (Duplicate Elimination) In organizations, a list of email addresses is often compiled for marketing purposes. However, duplicate email addresses need to be removed from this list. Write a function that receives a list and returns a list containing only unique values. Test your function with a list of numbers alist = [23,34,67,87,22,43,34,87,23,33,22,34]."
      ],
      "metadata": {
        "id": "TrZ8jbo7Bbxq"
      }
    },
    {
      "cell_type": "code",
      "source": [
        "list_names = [23, 34, 67, 87, 22, 43, 34, 87, 23, 33, 22, 34]"
      ],
      "metadata": {
        "id": "iBH5KW-tBtc1"
      },
      "execution_count": null,
      "outputs": []
    },
    {
      "cell_type": "code",
      "source": [
        "def duplicate_elimination(list_names):\n",
        "  res_list = []\n",
        "  # using list comprehension\n",
        "  [res_list.append(x) for x in list_names if x not in res_list]\n",
        "  return res_list"
      ],
      "metadata": {
        "id": "zOiuTkGfBcJ0"
      },
      "execution_count": null,
      "outputs": []
    },
    {
      "cell_type": "code",
      "source": [
        "#res_list = []\n",
        "#for x in list_names:\n",
        "  #if x not in res_list:\n",
        "    #res_list.append(x)\n",
        "    #return res_list"
      ],
      "metadata": {
        "id": "hhSUXDeOFTJc"
      },
      "execution_count": null,
      "outputs": []
    },
    {
      "cell_type": "code",
      "source": [
        "duplicate_elimination(list_names)"
      ],
      "metadata": {
        "colab": {
          "base_uri": "https://localhost:8080/"
        },
        "id": "dV59J5POFDEe",
        "outputId": "bc1f483c-67f3-4d89-cc9d-17ecfffcb5e1"
      },
      "execution_count": null,
      "outputs": [
        {
          "output_type": "execute_result",
          "data": {
            "text/plain": [
              "[23, 34, 67, 87, 22, 43, 33]"
            ]
          },
          "metadata": {},
          "execution_count": 25
        }
      ]
    },
    {
      "cell_type": "markdown",
      "source": [
        "4. (Insertion Sort Algorithm)** In computer science, there are several algorithms available to sort the elements of a list such as quicksort, merge, heapsort, and insertion sort. Although insertion sort is not the most efficient sorting algorithm when dealing with large lists, it is very efficient for\n",
        "small data sets and easy to implement. The algorithm splits a list into a sorted and unsorted part. Each value from the unsorted part is sequentially compared to each element in the sorted part and placed in the correct position The process to sorting the list is:"
      ],
      "metadata": {
        "id": "DwQ9JLtoJ0yF"
      }
    },
    {
      "cell_type": "markdown",
      "source": [
        "When this process completes, the list of numbers is sorted in ascending order. Write a function insertion_sort implementing the described algorithm. Use a list of 10 unique and randomly picked numbers between 0 and 100 to test this function, try the list alist = [23, 34, 67, 87, 22, 43, 33, 99, 23, 77]. Display the unsorted and the sorted list to evaluate the validity of your function."
      ],
      "metadata": {
        "id": "Gch_ga6ZKZFy"
      }
    },
    {
      "cell_type": "code",
      "source": [
        "list4 = [23, 34, 67, 87, 22, 43, 33, 99, 23, 77]"
      ],
      "metadata": {
        "id": "V99NwSs9MdXG"
      },
      "execution_count": null,
      "outputs": []
    },
    {
      "cell_type": "code",
      "source": [
        "def insertion_sort(arr):\n",
        "  for i in range(1, len(arr)):\n",
        "    key = arr[i]\n",
        "    j = i - 1\n",
        "    while j >= 0 and key < arr[j]:\n",
        "      arr[j + 1] = arr[j]\n",
        "      j -= 1\n",
        "      arr[j + 1] = key\n",
        " \n",
        "insertion_sort(list4)\n",
        "list_new = []\n",
        "\n",
        "print(\"Sorted list is : \")\n",
        "# list comprehension\n",
        "[list_new.append(list4[i]) for i in range(len(list4))]\n",
        "print(list_new)"
      ],
      "metadata": {
        "colab": {
          "base_uri": "https://localhost:8080/"
        },
        "id": "CSCg9oFa-xy0",
        "outputId": "80f6ae10-d85c-4156-ba48-d6791d8023a9"
      },
      "execution_count": null,
      "outputs": [
        {
          "output_type": "stream",
          "name": "stdout",
          "text": [
            "Sorted list is : \n",
            "[22, 23, 23, 33, 34, 43, 67, 77, 87, 99]\n"
          ]
        }
      ]
    },
    {
      "cell_type": "code",
      "source": [
        "insertion_sort(list4)"
      ],
      "metadata": {
        "id": "2qWcCt-YAH6y"
      },
      "execution_count": null,
      "outputs": []
    },
    {
      "cell_type": "markdown",
      "source": [
        "5. (Palindrome Tester) A string that’s spelled identically backward and forward, like 'radar', is a palindrome. Write a function is_palindrome that takes a string and returns True if it’s a palindrome and False otherwise. Use a stack to help determine whether a string is a palindrome. Your function should ignore case sensitivity (that is, 'a' and 'A' are the same), spaces and punctuation. Test with test_str1 = \"rA;da. .R\" and test_str2 = \"rader\". Hint: (1) convert the string into a list of lowercase characters; (2) remove all the\n",
        "spaces and punctions; (3) the stack is used to create a reverse list of characters.\n"
      ],
      "metadata": {
        "id": "_1cu3U2FCh4O"
      }
    },
    {
      "cell_type": "code",
      "source": [
        "def is_palindrome(test_str):\n",
        "  test_str1 = [] # Used to store stack after ignoring case sensitive\n",
        "  test_str2 = [] # Used to store the reverse of stack1\n",
        "  test_str3 = [] # Same as stack1 but for comparing with stack2\n",
        "  test_str = test_str.lower()\n",
        "  for i in test_str: \n",
        "    if 'a' <= i <= 'z': \n",
        "      test_str1.append(i)\n",
        "      test_str3.append(i)\n",
        "  for i in range(len(test_str1)):\n",
        "    temp = test_str1.pop()\n",
        "    test_str2.append(temp)\n",
        "  print(test_str3, test_str2)\n",
        "  if test_str3 == test_str2:\n",
        "    return True\n",
        "  else:\n",
        "    return False"
      ],
      "metadata": {
        "id": "DMubpaYFCiCd"
      },
      "execution_count": null,
      "outputs": []
    },
    {
      "cell_type": "code",
      "source": [
        "test_str1 = 'rA;da. .R'\n",
        "is_palindrome(test_str1)"
      ],
      "metadata": {
        "colab": {
          "base_uri": "https://localhost:8080/"
        },
        "id": "2OKBG4_RNVH9",
        "outputId": "c6c448a0-7e62-4e4f-e633-ba6e9783ea08"
      },
      "execution_count": null,
      "outputs": [
        {
          "output_type": "stream",
          "name": "stdout",
          "text": [
            "['r', 'a', 'd', 'a', 'r'] ['r', 'a', 'd', 'a', 'r']\n"
          ]
        },
        {
          "output_type": "execute_result",
          "data": {
            "text/plain": [
              "True"
            ]
          },
          "metadata": {},
          "execution_count": 98
        }
      ]
    },
    {
      "cell_type": "code",
      "source": [
        "test_str2 = 'rader'\n",
        "is_palindrome(test_str2)"
      ],
      "metadata": {
        "colab": {
          "base_uri": "https://localhost:8080/"
        },
        "id": "4cho8EU6IRCU",
        "outputId": "531df638-819f-44b3-c16f-1a941dba3036"
      },
      "execution_count": null,
      "outputs": [
        {
          "output_type": "stream",
          "name": "stdout",
          "text": [
            "['r', 'a', 'd', 'e', 'r'] ['r', 'e', 'd', 'a', 'r']\n"
          ]
        },
        {
          "output_type": "execute_result",
          "data": {
            "text/plain": [
              "False"
            ]
          },
          "metadata": {},
          "execution_count": 99
        }
      ]
    },
    {
      "cell_type": "markdown",
      "source": [
        "6. (Encryption Key) During the second world war, messages were often encrypted based on an extract of a book. The unique letters of such an extract were summarized into an encryption key. This key was then used to encrypt a message. Write a function that accepts a string as input and isolates the different unique letters ignoring punctuation, spaces, and case sensitivity. The\n",
        "function should check if the encryption key contains all letters of the alphabet. If not, the missing letters should be added to the key. Test with the string \"Give me my key please! Don't hesitate to generate one now.\""
      ],
      "metadata": {
        "id": "kljPF7kdR9we"
      }
    },
    {
      "cell_type": "code",
      "source": [
        "import string\n",
        "alpha_bet = list(string.ascii_lowercase)\n",
        "\n",
        "\n",
        "def encrypt_str(str_keys):\n",
        "  key = []\n",
        "  str_key = [] \n",
        "\n",
        "# ignoring punctuation, spaces, and case sensitivity  \n",
        "  for i in str_keys.lower():\n",
        "    if 'a' <= i <= 'z':\n",
        "      str_key += i \n",
        "\n",
        "# add the missing alphabet\n",
        "  for i in str_key:\n",
        "    if i not in key: \n",
        "      key.append(i)\n",
        "  for i in alpha_bet:\n",
        "    if i not in key:\n",
        "      key.append(i)\n",
        "      return key"
      ],
      "metadata": {
        "id": "ZkCRKS7gWp0b"
      },
      "execution_count": null,
      "outputs": []
    },
    {
      "cell_type": "code",
      "source": [
        "key_encrypt = encrypt_str(\"Give me my key please! Don't hesitate to generate one now.\")\n",
        "print(key_encrypt, end ='\\t')"
      ],
      "metadata": {
        "colab": {
          "base_uri": "https://localhost:8080/"
        },
        "id": "xr_CP_pjWxjD",
        "outputId": "4dbd9b6e-443b-4a54-e502-0e28d0589f61"
      },
      "execution_count": null,
      "outputs": [
        {
          "output_type": "stream",
          "name": "stdout",
          "text": [
            "['g', 'i', 'v', 'e', 'm', 'y', 'k', 'p', 'l', 'a', 's', 'd', 'o', 'n', 't', 'h', 'r', 'w', 'b']\t"
          ]
        }
      ]
    },
    {
      "cell_type": "markdown",
      "source": [
        "7. (Encrypt) As seen in Task 6, an extract of a book was often used to encrypt messages during the second world war. They were encrypted by calculating the position of each of its letters in the regular alphabet. This position was used to select the **corresponding** letter in the encryption key. For example, the letter A has position 1 in the alphabet. The letter A in the message is thus replaced by the first letter in the encryption key. Write a script that uses the\n",
        "encryption key composed in Task 6 to encrypt “Help me.”\n"
      ],
      "metadata": {
        "id": "lA0-y8N3X8qa"
      }
    },
    {
      "cell_type": "code",
      "source": [
        "def encrypt_key_new(i): \n",
        "  if i in alpha_bet:\n",
        "    return ord(i) - ord('a')\n",
        "  else:\n",
        "    return -1\n",
        "\n",
        "str1 = 'Help me'\n",
        "str1_new = [] \n",
        "str_encr = [] \n",
        "for i in string.lower():\n",
        "  if 'a' <= i <= 'z':\n",
        "    str1_new += i\n",
        "for i in str1_new:\n",
        "  pos = encrypt_key_new(i) \n",
        "  str_encr += key_encrypt[pos]\n",
        "str_encr"
      ],
      "metadata": {
        "colab": {
          "base_uri": "https://localhost:8080/"
        },
        "id": "h7DWFqSMfRvT",
        "outputId": "76d5ddbd-5639-4fab-ceeb-738891884d31"
      },
      "execution_count": null,
      "outputs": [
        {
          "output_type": "execute_result",
          "data": {
            "text/plain": [
              "['p', 'm', 'd', 'h', 'o', 'm']"
            ]
          },
          "metadata": {},
          "execution_count": 177
        }
      ]
    },
    {
      "cell_type": "markdown",
      "source": [
        "8. (List Sorting) Write a function is_sorted that compares the results from your\n",
        "insertion_sort function to the result from the built-in sorted function. If both functions return\n",
        "the same sorted list, the is_sorted function returns True. Test your function with several\n",
        "sorted and unsorted lists."
      ],
      "metadata": {
        "id": "k-2clV0YZXXw"
      }
    },
    {
      "cell_type": "code",
      "source": [
        "list4 = [23, 34, 67, 87, 22, 43, 33, 99, 23, 77]\n",
        "def is_sorted(arr):\n",
        "\n",
        "  def insertion_sort(arr):\n",
        "    for i in range(1, len(arr)):\n",
        "      key = arr[i]\n",
        "      j = i - 1\n",
        "\n",
        "    while j >= 0 and key < arr[j]:\n",
        "      arr[j + 1] = arr[j]\n",
        "      j -= 1\n",
        "      arr[j + 1] = key\n",
        "\n",
        "      # built-in sorted function\n",
        "      new_list = sorted(arr)\n",
        "      insertion_sort(list4)\n",
        "\n",
        "      # compare insertion_sort to the built-in sorted function\n",
        "      if arr == new_list:\n",
        "        return True\n",
        "      else:\n",
        "        return False"
      ],
      "metadata": {
        "id": "WTfrY_gQaWQP"
      },
      "execution_count": null,
      "outputs": []
    },
    {
      "cell_type": "code",
      "source": [
        "is_sorted(list4)"
      ],
      "metadata": {
        "id": "zejEA2rUjYKw"
      },
      "execution_count": null,
      "outputs": []
    },
    {
      "cell_type": "markdown",
      "source": [
        "11. (Finding the People with a Specified Last Name) Create a list of tuples containing first and last names. Use filter to locate the tuples containing the last name \"Nguyen\". Ensure that several tuples in your list have that last name"
      ],
      "metadata": {
        "id": "gGCnAu2ZnZWd"
      }
    },
    {
      "cell_type": "code",
      "source": [
        "list_of_tup = [('Nguyen','Sang'),('Dinh','Hang'),('My','Linh'),('Nguyen','Bao'),('Tran','Dat')]\n",
        "for i in list_of_tup:\n",
        "  if i[0] == 'Nguyen':\n",
        "    print(i[0] + ' ' + i[1])"
      ],
      "metadata": {
        "colab": {
          "base_uri": "https://localhost:8080/"
        },
        "id": "5SiBNSY9nZha",
        "outputId": "dd890db1-72a9-4245-a0c7-c21671a4ec16"
      },
      "execution_count": null,
      "outputs": [
        {
          "output_type": "stream",
          "name": "stdout",
          "text": [
            "Nguyen Sang\n",
            "Nguyen Bao\n"
          ]
        }
      ]
    }
  ]
}